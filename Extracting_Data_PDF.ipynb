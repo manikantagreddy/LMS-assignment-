{
 "cells": [
  {
   "cell_type": "code",
   "execution_count": 2,
   "id": "02576ed1-5e81-4411-b8b4-8af1bedae647",
   "metadata": {},
   "outputs": [
    {
     "name": "stdout",
     "output_type": "stream",
     "text": [
      "Requirement already satisfied: PyPDF2 in /opt/anaconda3/lib/python3.12/site-packages (3.0.1)\n",
      "Note: you may need to restart the kernel to use updated packages.\n"
     ]
    }
   ],
   "source": [
    "pip install PyPDF2"
   ]
  },
  {
   "cell_type": "code",
   "execution_count": 3,
   "id": "ca236dc5-1f61-4f5d-a2b9-b4d306d1ca27",
   "metadata": {},
   "outputs": [
    {
     "name": "stdout",
     "output_type": "stream",
     "text": [
      "\u001b[31mERROR: Could not find a version that satisfies the requirement PyPDF2==3.0.3 (from versions: 1.17, 1.18, 1.19, 1.20, 1.21, 1.22, 1.23, 1.24, 1.25, 1.25.1, 1.26.0, 1.27.0, 1.27.1, 1.27.2, 1.27.3, 1.27.4, 1.27.5, 1.27.6, 1.27.7, 1.27.8, 1.27.9, 1.27.10, 1.27.11, 1.27.12, 1.28.0, 1.28.1, 1.28.2, 1.28.3, 1.28.4, 1.28.5, 1.28.6, 2.0.0, 2.1.0, 2.1.1, 2.2.0, 2.2.1, 2.3.0, 2.3.1, 2.4.0, 2.4.1, 2.4.2, 2.5.0, 2.6.0, 2.7.0, 2.8.0, 2.8.1, 2.9.0, 2.10.0, 2.10.1, 2.10.2, 2.10.3, 2.10.4, 2.10.5, 2.10.6, 2.10.7, 2.10.8, 2.10.9, 2.11.0, 2.11.1, 2.11.2, 2.12.0, 2.12.1, 3.0.0, 3.0.1)\u001b[0m\u001b[31m\n",
      "\u001b[0m\u001b[31mERROR: No matching distribution found for PyPDF2==3.0.3\u001b[0m\u001b[31m\n",
      "\u001b[0mNote: you may need to restart the kernel to use updated packages.\n"
     ]
    }
   ],
   "source": [
    "pip install PyPDF2==3.0.3"
   ]
  },
  {
   "cell_type": "code",
   "execution_count": 4,
   "id": "66bc49b8-6428-4ae3-8c10-ba1ce7b9ba79",
   "metadata": {},
   "outputs": [],
   "source": [
    "import PyPDF2\n",
    "from PyPDF2 import PdfFileReader"
   ]
  },
  {
   "cell_type": "code",
   "execution_count": 5,
   "id": "fb16b139-b1f3-4dc2-a0b8-2620f072ddbb",
   "metadata": {},
   "outputs": [
    {
     "data": {
      "text/plain": [
       "'3.0.1'"
      ]
     },
     "execution_count": 5,
     "metadata": {},
     "output_type": "execute_result"
    }
   ],
   "source": [
    "PyPDF2.__version__"
   ]
  },
  {
   "cell_type": "code",
   "execution_count": 6,
   "id": "21e8ad16-8c11-47ca-98e0-01d7f9b1a6aa",
   "metadata": {},
   "outputs": [
    {
     "name": "stdout",
     "output_type": "stream",
     "text": [
      "Number of pages: 35\n",
      " \n",
      " \n",
      " Development  Plan for Greater Mumbai 2014‐2034                                                                                                                                                                                                                                                      \n",
      "Acknowledgements  \n",
      "The Consultant  wishes to thank the following  individuals  from the Municipal  Corporation  of \n",
      "Greater Mumbai for their invaluable  support, insights and contributions  towards ‘Working  Paper 1 \n",
      "– Preparation  of Base Map’ for the preparation  of the Development  Plan for Greater Mumbai \n",
      "2014‐34. \n",
      " Mr. Subodh Kumar, IAS, Municipal  Commissioner;  \n",
      " Mr. Rajeev Kuknoor, Chief Engineer Development  Plan; \n",
      " Mr. Sudhir Ghate, Deputy Chief Engineer Development  Plan; \n",
      " Mr. A.G. Marathe, Deputy Chief Engineer Development  Plan; \n",
      " Mr. R. Balachandran,  Executive  Engineer and Town Planning Officer, Development  Plan. \n",
      " Our gratitude  to the following  experts for their invaluable  insights and support: \n",
      " \n",
      "Mr. V.K Phatak, Former Chief Town Planner (MMRDA);  \n",
      " Mr. A.N Kale, Former Chief Engineer, (DP); \n",
      " Mr. A. S Jain Former Dy. Chief Engineer, (DP). \n",
      " We wish to especially  thank MCGM officers, Mr. Jagdish Talreja, Mr. Dinesh Naik, Mr. Hiren \n",
      "Daftardar,  Ms. Anita Naik for their continual  support since the\n",
      " beginning  of the project and their \n",
      "help towards familiarization  and data collection.  They have been instrumental  in helping to \n",
      "contact various MCGM departments  as well as in helping to establish contact with personnel  from \n",
      "other government  departments  and organizations.  Many thanks for the MCGM team, for \n",
      "deploying  personnel,  particularly  Mr. Prasad Gharat, on extensive  field visits that have helped in \n",
      "understanding  actual ground conditions.  \n",
      " \n",
      "We apologize  if we have inadvertently  omitted anyone to whom acknowledgement  is due. We hope \n",
      "and anticipate  the work's usefulness  for the intended purpose. \n",
      " \n"
     ]
    }
   ],
   "source": [
    "pdf=open(\"file1pdf.pdf\",\"rb\")\n",
    "pdf_reader=PyPDF2.PdfReader(pdf)\n",
    "print(\"Number of pages:\",len(pdf_reader.pages))\n",
    "page=pdf_reader.pages[1]\n",
    "print(page.extract_text())\n",
    "pdf.close()\n"
   ]
  },
  {
   "cell_type": "code",
   "execution_count": 7,
   "id": "2af02532-da9d-4792-a733-36103c2f7596",
   "metadata": {},
   "outputs": [],
   "source": [
    "import PyPDF2,urllib,nltk\n",
    "from io import BytesIO\n",
    "from nltk.tokenize import word_tokenize\n",
    "from nltk.corpus import stopwords"
   ]
  },
  {
   "cell_type": "code",
   "execution_count": 8,
   "id": "34ca2ca6-a43e-46f6-b7a1-11e8aff97ea7",
   "metadata": {},
   "outputs": [],
   "source": [
    "wFile=urllib.request.urlopen('http://www.udri.org/pdf/02%20working%20paper%201.pdf')\n",
    "pdfreader=PyPDF2.PdfReader(BytesIO(wFile.read()))"
   ]
  },
  {
   "cell_type": "code",
   "execution_count": null,
   "id": "a16cf145-c8aa-4deb-99f7-eb931e2910f4",
   "metadata": {},
   "outputs": [],
   "source": [
    "pip install stopwords"
   ]
  },
  {
   "cell_type": "code",
   "execution_count": 14,
   "id": "b0301ca1-f1dd-4247-8c78-3d7942739f7f",
   "metadata": {},
   "outputs": [],
   "source": [
    "pageObj=pdfreader.pages[2]\n",
    "page2=pageObj.extract_text()\n",
    "punctuations=['(',')',';',':','[',']',',','...','.']\n",
    "tokens=word_tokenize(page2)\n",
    "stop_words=stopwords.words('english')\n",
    "keywords=[word for word in tokens if not word in stop_words and not word in punctuations]"
   ]
  },
  {
   "cell_type": "code",
   "execution_count": 16,
   "id": "594f9605-cb3e-4492-a498-e41e32337352",
   "metadata": {},
   "outputs": [
    {
     "data": {
      "text/plain": [
       "['Development',\n",
       " 'Plan',\n",
       " 'Greater',\n",
       " 'Mumbai',\n",
       " '2014‐2034',\n",
       " 'Table',\n",
       " 'Contents',\n",
       " 'The',\n",
       " 'Consultant',\n",
       " 'wishes',\n",
       " 'thank',\n",
       " 'following',\n",
       " 'individuals',\n",
       " 'Municipal',\n",
       " 'Corporation',\n",
       " 'Greater',\n",
       " 'Mumbai',\n",
       " 'invaluable',\n",
       " 'support',\n",
       " 'insights',\n",
       " 'contributions',\n",
       " 'towards',\n",
       " '‘',\n",
       " 'Working',\n",
       " 'Paper',\n",
       " '1',\n",
       " '–',\n",
       " 'Preparation',\n",
       " 'Base',\n",
       " 'Map',\n",
       " '’',\n",
       " 'preparation',\n",
       " 'Development',\n",
       " 'Plan',\n",
       " 'Greater',\n",
       " 'Mumbai',\n",
       " '2014‐34',\n",
       " '.............................................................................................................................',\n",
       " '..............',\n",
       " '3',\n",
       " 'Our',\n",
       " 'gratitude',\n",
       " 'following',\n",
       " 'experts',\n",
       " 'invaluable',\n",
       " 'insights',\n",
       " 'support',\n",
       " '............................',\n",
       " '3',\n",
       " 'We',\n",
       " 'wish',\n",
       " 'especially',\n",
       " 'thank',\n",
       " 'MCGM',\n",
       " 'officers',\n",
       " 'Mr.',\n",
       " 'Jagdish',\n",
       " 'Talreja',\n",
       " 'Mr.',\n",
       " 'Dinesh',\n",
       " 'Naik',\n",
       " 'Mr.',\n",
       " 'Hiren',\n",
       " 'Daftardar',\n",
       " 'Ms.',\n",
       " 'Anita',\n",
       " 'Naik',\n",
       " 'continual',\n",
       " 'support',\n",
       " 'since',\n",
       " 'beginning',\n",
       " 'project',\n",
       " 'help',\n",
       " 'towards',\n",
       " 'familiarization',\n",
       " 'data',\n",
       " 'collection',\n",
       " 'They',\n",
       " 'instrumental',\n",
       " 'helping',\n",
       " 'contact',\n",
       " 'various',\n",
       " 'MCGM',\n",
       " 'departments',\n",
       " 'well',\n",
       " 'helping',\n",
       " 'establish',\n",
       " 'contact',\n",
       " 'personnel',\n",
       " 'government',\n",
       " 'departments',\n",
       " 'organizations',\n",
       " 'Many',\n",
       " 'thanks',\n",
       " 'MCGM',\n",
       " 'team',\n",
       " 'deploying',\n",
       " 'personnel',\n",
       " 'particularly',\n",
       " 'Mr.',\n",
       " 'Prasad',\n",
       " 'Gharat',\n",
       " 'extensive',\n",
       " 'field',\n",
       " 'visits',\n",
       " 'helped',\n",
       " 'understanding',\n",
       " 'actual',\n",
       " 'ground',\n",
       " 'conditions',\n",
       " '........................................................................................',\n",
       " '3',\n",
       " 'BEST',\n",
       " '...............................................................................................................................',\n",
       " '.................',\n",
       " '5',\n",
       " 'Brihanmumbai',\n",
       " 'Electric',\n",
       " 'Supply',\n",
       " 'Transport',\n",
       " 'Undertaking',\n",
       " '..............................................................',\n",
       " '5',\n",
       " 'CIDCO',\n",
       " '...............................................................................................................................',\n",
       " '..............',\n",
       " '5',\n",
       " 'City',\n",
       " 'Industrial',\n",
       " 'Development',\n",
       " 'Corporation',\n",
       " '...............................................................................',\n",
       " '5',\n",
       " 'CTP',\n",
       " '...............................................................................................................................',\n",
       " '..................',\n",
       " '5',\n",
       " 'Comprehensive',\n",
       " 'Transportation',\n",
       " 'Plan',\n",
       " '...............................................................................................',\n",
       " '5',\n",
       " 'DP',\n",
       " '...............................................................................................................................',\n",
       " '....................',\n",
       " '5',\n",
       " 'Development',\n",
       " 'Plan',\n",
       " '..........................................................................................................................',\n",
       " '5',\n",
       " 'DPGM34',\n",
       " '...............................................................................................................................',\n",
       " '..........',\n",
       " '5',\n",
       " 'Development',\n",
       " 'Plan',\n",
       " 'Greater',\n",
       " 'Mumbai',\n",
       " '2034',\n",
       " '.......................................................................................',\n",
       " '5',\n",
       " 'DCR',\n",
       " '...............................................................................................................................',\n",
       " '..................',\n",
       " '5',\n",
       " 'Development',\n",
       " 'Control',\n",
       " 'Regulations',\n",
       " '...................................................................................................',\n",
       " '5',\n",
       " 'DGPS',\n",
       " '...........................................................................................................................',\n",
       " '....................',\n",
       " '5',\n",
       " 'Digital',\n",
       " 'Global',\n",
       " 'Positioning',\n",
       " 'System',\n",
       " '...................................................................................................',\n",
       " '5',\n",
       " 'DPGM',\n",
       " '...............................................................................................................................',\n",
       " '..............',\n",
       " '5',\n",
       " 'Development',\n",
       " 'Plan',\n",
       " 'Greater',\n",
       " 'Mumbai',\n",
       " '...........................................................................................',\n",
       " '5',\n",
       " 'ELU',\n",
       " '...............................................................................................................................',\n",
       " '..................',\n",
       " '5',\n",
       " 'Existing',\n",
       " 'Land',\n",
       " 'use',\n",
       " '.............................................................................................................................',\n",
       " '5',\n",
       " 'FSI',\n",
       " '...............................................................................................................................',\n",
       " '....................',\n",
       " '5',\n",
       " 'Floor',\n",
       " 'Space',\n",
       " 'Index',\n",
       " '............................................................................................................................',\n",
       " '5',\n",
       " 'GIS',\n",
       " '...............................................................................................................................',\n",
       " '...................',\n",
       " '5']"
      ]
     },
     "execution_count": 16,
     "metadata": {},
     "output_type": "execute_result"
    }
   ],
   "source": [
    "keywords"
   ]
  },
  {
   "cell_type": "code",
   "execution_count": 22,
   "id": "8f94a762-3e01-4750-8dd3-cd0c8f1d255c",
   "metadata": {},
   "outputs": [
    {
     "name": "stdout",
     "output_type": "stream",
     "text": [
      "['Mr.JagdishTalreja', 'Mr.DineshNaik', 'Mr.HirenDaftardar', 'Ms.AnitaNaik', 'Mr.PrasadGharat']\n"
     ]
    }
   ],
   "source": [
    "name_list=list()\n",
    "check=['Mr.','Mrs.','Ms.']\n",
    "for idx, token in enumerate(tokens):\n",
    "    if token.startswith(tuple(check)) and idx<(len(tokens)-1):\n",
    "        name=token+tokens[idx+1]+''+tokens[idx+2]\n",
    "        name_list.append(name)\n",
    "\n",
    "print(name_list)"
   ]
  },
  {
   "cell_type": "code",
   "execution_count": 24,
   "id": "29a26fd9-2dd5-483a-812c-569c477757ef",
   "metadata": {},
   "outputs": [],
   "source": [
    "wFile.close()"
   ]
  },
  {
   "cell_type": "markdown",
   "id": "34445202-79f4-4cab-b1e3-98166bd67f40",
   "metadata": {},
   "source": [
    "collecting Data from word file"
   ]
  },
  {
   "cell_type": "code",
   "execution_count": 27,
   "id": "cd051378-2456-4969-b78f-7c58b7ca7c63",
   "metadata": {},
   "outputs": [
    {
     "name": "stdout",
     "output_type": "stream",
     "text": [
      "Collecting python-docx\n",
      "  Downloading python_docx-1.1.2-py3-none-any.whl.metadata (2.0 kB)\n",
      "Requirement already satisfied: lxml>=3.1.0 in /opt/anaconda3/lib/python3.12/site-packages (from python-docx) (5.2.1)\n",
      "Requirement already satisfied: typing-extensions>=4.9.0 in /opt/anaconda3/lib/python3.12/site-packages (from python-docx) (4.11.0)\n",
      "Downloading python_docx-1.1.2-py3-none-any.whl (244 kB)\n",
      "Installing collected packages: python-docx\n",
      "Successfully installed python-docx-1.1.2\n"
     ]
    }
   ],
   "source": [
    "!pip install python-docx"
   ]
  },
  {
   "cell_type": "code",
   "execution_count": 29,
   "id": "72358206-212a-4320-9b46-49b2c9c49e0c",
   "metadata": {},
   "outputs": [],
   "source": [
    "import docx"
   ]
  },
  {
   "cell_type": "code",
   "execution_count": 39,
   "id": "86bf819c-65f5-4f43-85fc-6e31699e1ac5",
   "metadata": {},
   "outputs": [],
   "source": [
    "doc=open(\"job.docx\",\"rb\")\n",
    "document=docx.Document(doc)"
   ]
  },
  {
   "cell_type": "code",
   "execution_count": 41,
   "id": "ad6c61a1-c807-498f-96f9-4c86d82220a1",
   "metadata": {},
   "outputs": [
    {
     "name": "stdout",
     "output_type": "stream",
     "text": [
      "Job Sequence for minor 1\n",
      "Job Sequence for minor 1#include <iostream>\n",
      "Job Sequence for minor 1#include <iostream>#include <vector>\n",
      "Job Sequence for minor 1#include <iostream>#include <vector>#include <algorithm>\n",
      "Job Sequence for minor 1#include <iostream>#include <vector>#include <algorithm>\n",
      "Job Sequence for minor 1#include <iostream>#include <vector>#include <algorithm>using namespace std;\n",
      "Job Sequence for minor 1#include <iostream>#include <vector>#include <algorithm>using namespace std;\n",
      "Job Sequence for minor 1#include <iostream>#include <vector>#include <algorithm>using namespace std;// Structure to represent a job\n",
      "Job Sequence for minor 1#include <iostream>#include <vector>#include <algorithm>using namespace std;// Structure to represent a jobstruct Job {\n",
      "Job Sequence for minor 1#include <iostream>#include <vector>#include <algorithm>using namespace std;// Structure to represent a jobstruct Job {    int id;        // Job ID\n",
      "Job Sequence for minor 1#include <iostream>#include <vector>#include <algorithm>using namespace std;// Structure to represent a jobstruct Job {    int id;        // Job ID    int deadline;  // Deadline of the job\n",
      "Job Sequence for minor 1#include <iostream>#include <vector>#include <algorithm>using namespace std;// Structure to represent a jobstruct Job {    int id;        // Job ID    int deadline;  // Deadline of the job    int profit;    // Profit of the job\n",
      "Job Sequence for minor 1#include <iostream>#include <vector>#include <algorithm>using namespace std;// Structure to represent a jobstruct Job {    int id;        // Job ID    int deadline;  // Deadline of the job    int profit;    // Profit of the job};\n",
      "Job Sequence for minor 1#include <iostream>#include <vector>#include <algorithm>using namespace std;// Structure to represent a jobstruct Job {    int id;        // Job ID    int deadline;  // Deadline of the job    int profit;    // Profit of the job};\n",
      "Job Sequence for minor 1#include <iostream>#include <vector>#include <algorithm>using namespace std;// Structure to represent a jobstruct Job {    int id;        // Job ID    int deadline;  // Deadline of the job    int profit;    // Profit of the job};// Comparison function to sort jobs in decreasing order of profit\n",
      "Job Sequence for minor 1#include <iostream>#include <vector>#include <algorithm>using namespace std;// Structure to represent a jobstruct Job {    int id;        // Job ID    int deadline;  // Deadline of the job    int profit;    // Profit of the job};// Comparison function to sort jobs in decreasing order of profitbool compare(Job a, Job b) {\n",
      "Job Sequence for minor 1#include <iostream>#include <vector>#include <algorithm>using namespace std;// Structure to represent a jobstruct Job {    int id;        // Job ID    int deadline;  // Deadline of the job    int profit;    // Profit of the job};// Comparison function to sort jobs in decreasing order of profitbool compare(Job a, Job b) {    return a.profit > b.profit;\n",
      "Job Sequence for minor 1#include <iostream>#include <vector>#include <algorithm>using namespace std;// Structure to represent a jobstruct Job {    int id;        // Job ID    int deadline;  // Deadline of the job    int profit;    // Profit of the job};// Comparison function to sort jobs in decreasing order of profitbool compare(Job a, Job b) {    return a.profit > b.profit;}\n",
      "Job Sequence for minor 1#include <iostream>#include <vector>#include <algorithm>using namespace std;// Structure to represent a jobstruct Job {    int id;        // Job ID    int deadline;  // Deadline of the job    int profit;    // Profit of the job};// Comparison function to sort jobs in decreasing order of profitbool compare(Job a, Job b) {    return a.profit > b.profit;}\n",
      "Job Sequence for minor 1#include <iostream>#include <vector>#include <algorithm>using namespace std;// Structure to represent a jobstruct Job {    int id;        // Job ID    int deadline;  // Deadline of the job    int profit;    // Profit of the job};// Comparison function to sort jobs in decreasing order of profitbool compare(Job a, Job b) {    return a.profit > b.profit;}// Function to perform job sequencing with deadlines\n",
      "Job Sequence for minor 1#include <iostream>#include <vector>#include <algorithm>using namespace std;// Structure to represent a jobstruct Job {    int id;        // Job ID    int deadline;  // Deadline of the job    int profit;    // Profit of the job};// Comparison function to sort jobs in decreasing order of profitbool compare(Job a, Job b) {    return a.profit > b.profit;}// Function to perform job sequencing with deadlinesvoid jobSequencing(Job jobs[], int n) {\n",
      "Job Sequence for minor 1#include <iostream>#include <vector>#include <algorithm>using namespace std;// Structure to represent a jobstruct Job {    int id;        // Job ID    int deadline;  // Deadline of the job    int profit;    // Profit of the job};// Comparison function to sort jobs in decreasing order of profitbool compare(Job a, Job b) {    return a.profit > b.profit;}// Function to perform job sequencing with deadlinesvoid jobSequencing(Job jobs[], int n) {    // Sort the jobs based on profit in decreasing order\n",
      "Job Sequence for minor 1#include <iostream>#include <vector>#include <algorithm>using namespace std;// Structure to represent a jobstruct Job {    int id;        // Job ID    int deadline;  // Deadline of the job    int profit;    // Profit of the job};// Comparison function to sort jobs in decreasing order of profitbool compare(Job a, Job b) {    return a.profit > b.profit;}// Function to perform job sequencing with deadlinesvoid jobSequencing(Job jobs[], int n) {    // Sort the jobs based on profit in decreasing order    sort(jobs, jobs + n, compare);\n",
      "Job Sequence for minor 1#include <iostream>#include <vector>#include <algorithm>using namespace std;// Structure to represent a jobstruct Job {    int id;        // Job ID    int deadline;  // Deadline of the job    int profit;    // Profit of the job};// Comparison function to sort jobs in decreasing order of profitbool compare(Job a, Job b) {    return a.profit > b.profit;}// Function to perform job sequencing with deadlinesvoid jobSequencing(Job jobs[], int n) {    // Sort the jobs based on profit in decreasing order    sort(jobs, jobs + n, compare);    \n",
      "Job Sequence for minor 1#include <iostream>#include <vector>#include <algorithm>using namespace std;// Structure to represent a jobstruct Job {    int id;        // Job ID    int deadline;  // Deadline of the job    int profit;    // Profit of the job};// Comparison function to sort jobs in decreasing order of profitbool compare(Job a, Job b) {    return a.profit > b.profit;}// Function to perform job sequencing with deadlinesvoid jobSequencing(Job jobs[], int n) {    // Sort the jobs based on profit in decreasing order    sort(jobs, jobs + n, compare);        // Create a vector to track the available time slots (initialized as -1)\n",
      "Job Sequence for minor 1#include <iostream>#include <vector>#include <algorithm>using namespace std;// Structure to represent a jobstruct Job {    int id;        // Job ID    int deadline;  // Deadline of the job    int profit;    // Profit of the job};// Comparison function to sort jobs in decreasing order of profitbool compare(Job a, Job b) {    return a.profit > b.profit;}// Function to perform job sequencing with deadlinesvoid jobSequencing(Job jobs[], int n) {    // Sort the jobs based on profit in decreasing order    sort(jobs, jobs + n, compare);        // Create a vector to track the available time slots (initialized as -1)    vector<int> slot(n, -1);\n",
      "Job Sequence for minor 1#include <iostream>#include <vector>#include <algorithm>using namespace std;// Structure to represent a jobstruct Job {    int id;        // Job ID    int deadline;  // Deadline of the job    int profit;    // Profit of the job};// Comparison function to sort jobs in decreasing order of profitbool compare(Job a, Job b) {    return a.profit > b.profit;}// Function to perform job sequencing with deadlinesvoid jobSequencing(Job jobs[], int n) {    // Sort the jobs based on profit in decreasing order    sort(jobs, jobs + n, compare);        // Create a vector to track the available time slots (initialized as -1)    vector<int> slot(n, -1);\n",
      "Job Sequence for minor 1#include <iostream>#include <vector>#include <algorithm>using namespace std;// Structure to represent a jobstruct Job {    int id;        // Job ID    int deadline;  // Deadline of the job    int profit;    // Profit of the job};// Comparison function to sort jobs in decreasing order of profitbool compare(Job a, Job b) {    return a.profit > b.profit;}// Function to perform job sequencing with deadlinesvoid jobSequencing(Job jobs[], int n) {    // Sort the jobs based on profit in decreasing order    sort(jobs, jobs + n, compare);        // Create a vector to track the available time slots (initialized as -1)    vector<int> slot(n, -1);    int totalProfit = 0;\n",
      "Job Sequence for minor 1#include <iostream>#include <vector>#include <algorithm>using namespace std;// Structure to represent a jobstruct Job {    int id;        // Job ID    int deadline;  // Deadline of the job    int profit;    // Profit of the job};// Comparison function to sort jobs in decreasing order of profitbool compare(Job a, Job b) {    return a.profit > b.profit;}// Function to perform job sequencing with deadlinesvoid jobSequencing(Job jobs[], int n) {    // Sort the jobs based on profit in decreasing order    sort(jobs, jobs + n, compare);        // Create a vector to track the available time slots (initialized as -1)    vector<int> slot(n, -1);    int totalProfit = 0;    \n",
      "Job Sequence for minor 1#include <iostream>#include <vector>#include <algorithm>using namespace std;// Structure to represent a jobstruct Job {    int id;        // Job ID    int deadline;  // Deadline of the job    int profit;    // Profit of the job};// Comparison function to sort jobs in decreasing order of profitbool compare(Job a, Job b) {    return a.profit > b.profit;}// Function to perform job sequencing with deadlinesvoid jobSequencing(Job jobs[], int n) {    // Sort the jobs based on profit in decreasing order    sort(jobs, jobs + n, compare);        // Create a vector to track the available time slots (initialized as -1)    vector<int> slot(n, -1);    int totalProfit = 0;        // Iterate through all the jobs\n",
      "Job Sequence for minor 1#include <iostream>#include <vector>#include <algorithm>using namespace std;// Structure to represent a jobstruct Job {    int id;        // Job ID    int deadline;  // Deadline of the job    int profit;    // Profit of the job};// Comparison function to sort jobs in decreasing order of profitbool compare(Job a, Job b) {    return a.profit > b.profit;}// Function to perform job sequencing with deadlinesvoid jobSequencing(Job jobs[], int n) {    // Sort the jobs based on profit in decreasing order    sort(jobs, jobs + n, compare);        // Create a vector to track the available time slots (initialized as -1)    vector<int> slot(n, -1);    int totalProfit = 0;        // Iterate through all the jobs    for (int i = 0; i < n; i++) {\n",
      "Job Sequence for minor 1#include <iostream>#include <vector>#include <algorithm>using namespace std;// Structure to represent a jobstruct Job {    int id;        // Job ID    int deadline;  // Deadline of the job    int profit;    // Profit of the job};// Comparison function to sort jobs in decreasing order of profitbool compare(Job a, Job b) {    return a.profit > b.profit;}// Function to perform job sequencing with deadlinesvoid jobSequencing(Job jobs[], int n) {    // Sort the jobs based on profit in decreasing order    sort(jobs, jobs + n, compare);        // Create a vector to track the available time slots (initialized as -1)    vector<int> slot(n, -1);    int totalProfit = 0;        // Iterate through all the jobs    for (int i = 0; i < n; i++) {        // Find a slot for this job (starting from the last available slot)\n",
      "Job Sequence for minor 1#include <iostream>#include <vector>#include <algorithm>using namespace std;// Structure to represent a jobstruct Job {    int id;        // Job ID    int deadline;  // Deadline of the job    int profit;    // Profit of the job};// Comparison function to sort jobs in decreasing order of profitbool compare(Job a, Job b) {    return a.profit > b.profit;}// Function to perform job sequencing with deadlinesvoid jobSequencing(Job jobs[], int n) {    // Sort the jobs based on profit in decreasing order    sort(jobs, jobs + n, compare);        // Create a vector to track the available time slots (initialized as -1)    vector<int> slot(n, -1);    int totalProfit = 0;        // Iterate through all the jobs    for (int i = 0; i < n; i++) {        // Find a slot for this job (starting from the last available slot)        for (int j = min(n, jobs[i].deadline) - 1; j >= 0; j--) {\n",
      "Job Sequence for minor 1#include <iostream>#include <vector>#include <algorithm>using namespace std;// Structure to represent a jobstruct Job {    int id;        // Job ID    int deadline;  // Deadline of the job    int profit;    // Profit of the job};// Comparison function to sort jobs in decreasing order of profitbool compare(Job a, Job b) {    return a.profit > b.profit;}// Function to perform job sequencing with deadlinesvoid jobSequencing(Job jobs[], int n) {    // Sort the jobs based on profit in decreasing order    sort(jobs, jobs + n, compare);        // Create a vector to track the available time slots (initialized as -1)    vector<int> slot(n, -1);    int totalProfit = 0;        // Iterate through all the jobs    for (int i = 0; i < n; i++) {        // Find a slot for this job (starting from the last available slot)        for (int j = min(n, jobs[i].deadline) - 1; j >= 0; j--) {            if (slot[j] == -1) { // If the slot is available\n",
      "Job Sequence for minor 1#include <iostream>#include <vector>#include <algorithm>using namespace std;// Structure to represent a jobstruct Job {    int id;        // Job ID    int deadline;  // Deadline of the job    int profit;    // Profit of the job};// Comparison function to sort jobs in decreasing order of profitbool compare(Job a, Job b) {    return a.profit > b.profit;}// Function to perform job sequencing with deadlinesvoid jobSequencing(Job jobs[], int n) {    // Sort the jobs based on profit in decreasing order    sort(jobs, jobs + n, compare);        // Create a vector to track the available time slots (initialized as -1)    vector<int> slot(n, -1);    int totalProfit = 0;        // Iterate through all the jobs    for (int i = 0; i < n; i++) {        // Find a slot for this job (starting from the last available slot)        for (int j = min(n, jobs[i].deadline) - 1; j >= 0; j--) {            if (slot[j] == -1) { // If the slot is available                slot[j] = i;     // Assign the job to this slot\n",
      "Job Sequence for minor 1#include <iostream>#include <vector>#include <algorithm>using namespace std;// Structure to represent a jobstruct Job {    int id;        // Job ID    int deadline;  // Deadline of the job    int profit;    // Profit of the job};// Comparison function to sort jobs in decreasing order of profitbool compare(Job a, Job b) {    return a.profit > b.profit;}// Function to perform job sequencing with deadlinesvoid jobSequencing(Job jobs[], int n) {    // Sort the jobs based on profit in decreasing order    sort(jobs, jobs + n, compare);        // Create a vector to track the available time slots (initialized as -1)    vector<int> slot(n, -1);    int totalProfit = 0;        // Iterate through all the jobs    for (int i = 0; i < n; i++) {        // Find a slot for this job (starting from the last available slot)        for (int j = min(n, jobs[i].deadline) - 1; j >= 0; j--) {            if (slot[j] == -1) { // If the slot is available                slot[j] = i;     // Assign the job to this slot                totalProfit += jobs[i].profit; // Add the profit to the total\n",
      "Job Sequence for minor 1#include <iostream>#include <vector>#include <algorithm>using namespace std;// Structure to represent a jobstruct Job {    int id;        // Job ID    int deadline;  // Deadline of the job    int profit;    // Profit of the job};// Comparison function to sort jobs in decreasing order of profitbool compare(Job a, Job b) {    return a.profit > b.profit;}// Function to perform job sequencing with deadlinesvoid jobSequencing(Job jobs[], int n) {    // Sort the jobs based on profit in decreasing order    sort(jobs, jobs + n, compare);        // Create a vector to track the available time slots (initialized as -1)    vector<int> slot(n, -1);    int totalProfit = 0;        // Iterate through all the jobs    for (int i = 0; i < n; i++) {        // Find a slot for this job (starting from the last available slot)        for (int j = min(n, jobs[i].deadline) - 1; j >= 0; j--) {            if (slot[j] == -1) { // If the slot is available                slot[j] = i;     // Assign the job to this slot                totalProfit += jobs[i].profit; // Add the profit to the total                break;\n",
      "Job Sequence for minor 1#include <iostream>#include <vector>#include <algorithm>using namespace std;// Structure to represent a jobstruct Job {    int id;        // Job ID    int deadline;  // Deadline of the job    int profit;    // Profit of the job};// Comparison function to sort jobs in decreasing order of profitbool compare(Job a, Job b) {    return a.profit > b.profit;}// Function to perform job sequencing with deadlinesvoid jobSequencing(Job jobs[], int n) {    // Sort the jobs based on profit in decreasing order    sort(jobs, jobs + n, compare);        // Create a vector to track the available time slots (initialized as -1)    vector<int> slot(n, -1);    int totalProfit = 0;        // Iterate through all the jobs    for (int i = 0; i < n; i++) {        // Find a slot for this job (starting from the last available slot)        for (int j = min(n, jobs[i].deadline) - 1; j >= 0; j--) {            if (slot[j] == -1) { // If the slot is available                slot[j] = i;     // Assign the job to this slot                totalProfit += jobs[i].profit; // Add the profit to the total                break;            }\n",
      "Job Sequence for minor 1#include <iostream>#include <vector>#include <algorithm>using namespace std;// Structure to represent a jobstruct Job {    int id;        // Job ID    int deadline;  // Deadline of the job    int profit;    // Profit of the job};// Comparison function to sort jobs in decreasing order of profitbool compare(Job a, Job b) {    return a.profit > b.profit;}// Function to perform job sequencing with deadlinesvoid jobSequencing(Job jobs[], int n) {    // Sort the jobs based on profit in decreasing order    sort(jobs, jobs + n, compare);        // Create a vector to track the available time slots (initialized as -1)    vector<int> slot(n, -1);    int totalProfit = 0;        // Iterate through all the jobs    for (int i = 0; i < n; i++) {        // Find a slot for this job (starting from the last available slot)        for (int j = min(n, jobs[i].deadline) - 1; j >= 0; j--) {            if (slot[j] == -1) { // If the slot is available                slot[j] = i;     // Assign the job to this slot                totalProfit += jobs[i].profit; // Add the profit to the total                break;            }        }\n",
      "Job Sequence for minor 1#include <iostream>#include <vector>#include <algorithm>using namespace std;// Structure to represent a jobstruct Job {    int id;        // Job ID    int deadline;  // Deadline of the job    int profit;    // Profit of the job};// Comparison function to sort jobs in decreasing order of profitbool compare(Job a, Job b) {    return a.profit > b.profit;}// Function to perform job sequencing with deadlinesvoid jobSequencing(Job jobs[], int n) {    // Sort the jobs based on profit in decreasing order    sort(jobs, jobs + n, compare);        // Create a vector to track the available time slots (initialized as -1)    vector<int> slot(n, -1);    int totalProfit = 0;        // Iterate through all the jobs    for (int i = 0; i < n; i++) {        // Find a slot for this job (starting from the last available slot)        for (int j = min(n, jobs[i].deadline) - 1; j >= 0; j--) {            if (slot[j] == -1) { // If the slot is available                slot[j] = i;     // Assign the job to this slot                totalProfit += jobs[i].profit; // Add the profit to the total                break;            }        }    }\n",
      "Job Sequence for minor 1#include <iostream>#include <vector>#include <algorithm>using namespace std;// Structure to represent a jobstruct Job {    int id;        // Job ID    int deadline;  // Deadline of the job    int profit;    // Profit of the job};// Comparison function to sort jobs in decreasing order of profitbool compare(Job a, Job b) {    return a.profit > b.profit;}// Function to perform job sequencing with deadlinesvoid jobSequencing(Job jobs[], int n) {    // Sort the jobs based on profit in decreasing order    sort(jobs, jobs + n, compare);        // Create a vector to track the available time slots (initialized as -1)    vector<int> slot(n, -1);    int totalProfit = 0;        // Iterate through all the jobs    for (int i = 0; i < n; i++) {        // Find a slot for this job (starting from the last available slot)        for (int j = min(n, jobs[i].deadline) - 1; j >= 0; j--) {            if (slot[j] == -1) { // If the slot is available                slot[j] = i;     // Assign the job to this slot                totalProfit += jobs[i].profit; // Add the profit to the total                break;            }        }    }\n",
      "Job Sequence for minor 1#include <iostream>#include <vector>#include <algorithm>using namespace std;// Structure to represent a jobstruct Job {    int id;        // Job ID    int deadline;  // Deadline of the job    int profit;    // Profit of the job};// Comparison function to sort jobs in decreasing order of profitbool compare(Job a, Job b) {    return a.profit > b.profit;}// Function to perform job sequencing with deadlinesvoid jobSequencing(Job jobs[], int n) {    // Sort the jobs based on profit in decreasing order    sort(jobs, jobs + n, compare);        // Create a vector to track the available time slots (initialized as -1)    vector<int> slot(n, -1);    int totalProfit = 0;        // Iterate through all the jobs    for (int i = 0; i < n; i++) {        // Find a slot for this job (starting from the last available slot)        for (int j = min(n, jobs[i].deadline) - 1; j >= 0; j--) {            if (slot[j] == -1) { // If the slot is available                slot[j] = i;     // Assign the job to this slot                totalProfit += jobs[i].profit; // Add the profit to the total                break;            }        }    }    // Output the total profit\n",
      "Job Sequence for minor 1#include <iostream>#include <vector>#include <algorithm>using namespace std;// Structure to represent a jobstruct Job {    int id;        // Job ID    int deadline;  // Deadline of the job    int profit;    // Profit of the job};// Comparison function to sort jobs in decreasing order of profitbool compare(Job a, Job b) {    return a.profit > b.profit;}// Function to perform job sequencing with deadlinesvoid jobSequencing(Job jobs[], int n) {    // Sort the jobs based on profit in decreasing order    sort(jobs, jobs + n, compare);        // Create a vector to track the available time slots (initialized as -1)    vector<int> slot(n, -1);    int totalProfit = 0;        // Iterate through all the jobs    for (int i = 0; i < n; i++) {        // Find a slot for this job (starting from the last available slot)        for (int j = min(n, jobs[i].deadline) - 1; j >= 0; j--) {            if (slot[j] == -1) { // If the slot is available                slot[j] = i;     // Assign the job to this slot                totalProfit += jobs[i].profit; // Add the profit to the total                break;            }        }    }    // Output the total profit    cout << \"Total profit: \" << totalProfit << endl;\n",
      "Job Sequence for minor 1#include <iostream>#include <vector>#include <algorithm>using namespace std;// Structure to represent a jobstruct Job {    int id;        // Job ID    int deadline;  // Deadline of the job    int profit;    // Profit of the job};// Comparison function to sort jobs in decreasing order of profitbool compare(Job a, Job b) {    return a.profit > b.profit;}// Function to perform job sequencing with deadlinesvoid jobSequencing(Job jobs[], int n) {    // Sort the jobs based on profit in decreasing order    sort(jobs, jobs + n, compare);        // Create a vector to track the available time slots (initialized as -1)    vector<int> slot(n, -1);    int totalProfit = 0;        // Iterate through all the jobs    for (int i = 0; i < n; i++) {        // Find a slot for this job (starting from the last available slot)        for (int j = min(n, jobs[i].deadline) - 1; j >= 0; j--) {            if (slot[j] == -1) { // If the slot is available                slot[j] = i;     // Assign the job to this slot                totalProfit += jobs[i].profit; // Add the profit to the total                break;            }        }    }    // Output the total profit    cout << \"Total profit: \" << totalProfit << endl;    cout << \"Job sequence: \";\n",
      "Job Sequence for minor 1#include <iostream>#include <vector>#include <algorithm>using namespace std;// Structure to represent a jobstruct Job {    int id;        // Job ID    int deadline;  // Deadline of the job    int profit;    // Profit of the job};// Comparison function to sort jobs in decreasing order of profitbool compare(Job a, Job b) {    return a.profit > b.profit;}// Function to perform job sequencing with deadlinesvoid jobSequencing(Job jobs[], int n) {    // Sort the jobs based on profit in decreasing order    sort(jobs, jobs + n, compare);        // Create a vector to track the available time slots (initialized as -1)    vector<int> slot(n, -1);    int totalProfit = 0;        // Iterate through all the jobs    for (int i = 0; i < n; i++) {        // Find a slot for this job (starting from the last available slot)        for (int j = min(n, jobs[i].deadline) - 1; j >= 0; j--) {            if (slot[j] == -1) { // If the slot is available                slot[j] = i;     // Assign the job to this slot                totalProfit += jobs[i].profit; // Add the profit to the total                break;            }        }    }    // Output the total profit    cout << \"Total profit: \" << totalProfit << endl;    cout << \"Job sequence: \";    \n",
      "Job Sequence for minor 1#include <iostream>#include <vector>#include <algorithm>using namespace std;// Structure to represent a jobstruct Job {    int id;        // Job ID    int deadline;  // Deadline of the job    int profit;    // Profit of the job};// Comparison function to sort jobs in decreasing order of profitbool compare(Job a, Job b) {    return a.profit > b.profit;}// Function to perform job sequencing with deadlinesvoid jobSequencing(Job jobs[], int n) {    // Sort the jobs based on profit in decreasing order    sort(jobs, jobs + n, compare);        // Create a vector to track the available time slots (initialized as -1)    vector<int> slot(n, -1);    int totalProfit = 0;        // Iterate through all the jobs    for (int i = 0; i < n; i++) {        // Find a slot for this job (starting from the last available slot)        for (int j = min(n, jobs[i].deadline) - 1; j >= 0; j--) {            if (slot[j] == -1) { // If the slot is available                slot[j] = i;     // Assign the job to this slot                totalProfit += jobs[i].profit; // Add the profit to the total                break;            }        }    }    // Output the total profit    cout << \"Total profit: \" << totalProfit << endl;    cout << \"Job sequence: \";        // Output the jobs that are scheduled\n",
      "Job Sequence for minor 1#include <iostream>#include <vector>#include <algorithm>using namespace std;// Structure to represent a jobstruct Job {    int id;        // Job ID    int deadline;  // Deadline of the job    int profit;    // Profit of the job};// Comparison function to sort jobs in decreasing order of profitbool compare(Job a, Job b) {    return a.profit > b.profit;}// Function to perform job sequencing with deadlinesvoid jobSequencing(Job jobs[], int n) {    // Sort the jobs based on profit in decreasing order    sort(jobs, jobs + n, compare);        // Create a vector to track the available time slots (initialized as -1)    vector<int> slot(n, -1);    int totalProfit = 0;        // Iterate through all the jobs    for (int i = 0; i < n; i++) {        // Find a slot for this job (starting from the last available slot)        for (int j = min(n, jobs[i].deadline) - 1; j >= 0; j--) {            if (slot[j] == -1) { // If the slot is available                slot[j] = i;     // Assign the job to this slot                totalProfit += jobs[i].profit; // Add the profit to the total                break;            }        }    }    // Output the total profit    cout << \"Total profit: \" << totalProfit << endl;    cout << \"Job sequence: \";        // Output the jobs that are scheduled    for (int i = 0; i < n; i++) {\n",
      "Job Sequence for minor 1#include <iostream>#include <vector>#include <algorithm>using namespace std;// Structure to represent a jobstruct Job {    int id;        // Job ID    int deadline;  // Deadline of the job    int profit;    // Profit of the job};// Comparison function to sort jobs in decreasing order of profitbool compare(Job a, Job b) {    return a.profit > b.profit;}// Function to perform job sequencing with deadlinesvoid jobSequencing(Job jobs[], int n) {    // Sort the jobs based on profit in decreasing order    sort(jobs, jobs + n, compare);        // Create a vector to track the available time slots (initialized as -1)    vector<int> slot(n, -1);    int totalProfit = 0;        // Iterate through all the jobs    for (int i = 0; i < n; i++) {        // Find a slot for this job (starting from the last available slot)        for (int j = min(n, jobs[i].deadline) - 1; j >= 0; j--) {            if (slot[j] == -1) { // If the slot is available                slot[j] = i;     // Assign the job to this slot                totalProfit += jobs[i].profit; // Add the profit to the total                break;            }        }    }    // Output the total profit    cout << \"Total profit: \" << totalProfit << endl;    cout << \"Job sequence: \";        // Output the jobs that are scheduled    for (int i = 0; i < n; i++) {        if (slot[i] != -1) {\n",
      "Job Sequence for minor 1#include <iostream>#include <vector>#include <algorithm>using namespace std;// Structure to represent a jobstruct Job {    int id;        // Job ID    int deadline;  // Deadline of the job    int profit;    // Profit of the job};// Comparison function to sort jobs in decreasing order of profitbool compare(Job a, Job b) {    return a.profit > b.profit;}// Function to perform job sequencing with deadlinesvoid jobSequencing(Job jobs[], int n) {    // Sort the jobs based on profit in decreasing order    sort(jobs, jobs + n, compare);        // Create a vector to track the available time slots (initialized as -1)    vector<int> slot(n, -1);    int totalProfit = 0;        // Iterate through all the jobs    for (int i = 0; i < n; i++) {        // Find a slot for this job (starting from the last available slot)        for (int j = min(n, jobs[i].deadline) - 1; j >= 0; j--) {            if (slot[j] == -1) { // If the slot is available                slot[j] = i;     // Assign the job to this slot                totalProfit += jobs[i].profit; // Add the profit to the total                break;            }        }    }    // Output the total profit    cout << \"Total profit: \" << totalProfit << endl;    cout << \"Job sequence: \";        // Output the jobs that are scheduled    for (int i = 0; i < n; i++) {        if (slot[i] != -1) {            cout << jobs[slot[i]].id << \" \";\n",
      "Job Sequence for minor 1#include <iostream>#include <vector>#include <algorithm>using namespace std;// Structure to represent a jobstruct Job {    int id;        // Job ID    int deadline;  // Deadline of the job    int profit;    // Profit of the job};// Comparison function to sort jobs in decreasing order of profitbool compare(Job a, Job b) {    return a.profit > b.profit;}// Function to perform job sequencing with deadlinesvoid jobSequencing(Job jobs[], int n) {    // Sort the jobs based on profit in decreasing order    sort(jobs, jobs + n, compare);        // Create a vector to track the available time slots (initialized as -1)    vector<int> slot(n, -1);    int totalProfit = 0;        // Iterate through all the jobs    for (int i = 0; i < n; i++) {        // Find a slot for this job (starting from the last available slot)        for (int j = min(n, jobs[i].deadline) - 1; j >= 0; j--) {            if (slot[j] == -1) { // If the slot is available                slot[j] = i;     // Assign the job to this slot                totalProfit += jobs[i].profit; // Add the profit to the total                break;            }        }    }    // Output the total profit    cout << \"Total profit: \" << totalProfit << endl;    cout << \"Job sequence: \";        // Output the jobs that are scheduled    for (int i = 0; i < n; i++) {        if (slot[i] != -1) {            cout << jobs[slot[i]].id << \" \";        }\n",
      "Job Sequence for minor 1#include <iostream>#include <vector>#include <algorithm>using namespace std;// Structure to represent a jobstruct Job {    int id;        // Job ID    int deadline;  // Deadline of the job    int profit;    // Profit of the job};// Comparison function to sort jobs in decreasing order of profitbool compare(Job a, Job b) {    return a.profit > b.profit;}// Function to perform job sequencing with deadlinesvoid jobSequencing(Job jobs[], int n) {    // Sort the jobs based on profit in decreasing order    sort(jobs, jobs + n, compare);        // Create a vector to track the available time slots (initialized as -1)    vector<int> slot(n, -1);    int totalProfit = 0;        // Iterate through all the jobs    for (int i = 0; i < n; i++) {        // Find a slot for this job (starting from the last available slot)        for (int j = min(n, jobs[i].deadline) - 1; j >= 0; j--) {            if (slot[j] == -1) { // If the slot is available                slot[j] = i;     // Assign the job to this slot                totalProfit += jobs[i].profit; // Add the profit to the total                break;            }        }    }    // Output the total profit    cout << \"Total profit: \" << totalProfit << endl;    cout << \"Job sequence: \";        // Output the jobs that are scheduled    for (int i = 0; i < n; i++) {        if (slot[i] != -1) {            cout << jobs[slot[i]].id << \" \";        }    }\n",
      "Job Sequence for minor 1#include <iostream>#include <vector>#include <algorithm>using namespace std;// Structure to represent a jobstruct Job {    int id;        // Job ID    int deadline;  // Deadline of the job    int profit;    // Profit of the job};// Comparison function to sort jobs in decreasing order of profitbool compare(Job a, Job b) {    return a.profit > b.profit;}// Function to perform job sequencing with deadlinesvoid jobSequencing(Job jobs[], int n) {    // Sort the jobs based on profit in decreasing order    sort(jobs, jobs + n, compare);        // Create a vector to track the available time slots (initialized as -1)    vector<int> slot(n, -1);    int totalProfit = 0;        // Iterate through all the jobs    for (int i = 0; i < n; i++) {        // Find a slot for this job (starting from the last available slot)        for (int j = min(n, jobs[i].deadline) - 1; j >= 0; j--) {            if (slot[j] == -1) { // If the slot is available                slot[j] = i;     // Assign the job to this slot                totalProfit += jobs[i].profit; // Add the profit to the total                break;            }        }    }    // Output the total profit    cout << \"Total profit: \" << totalProfit << endl;    cout << \"Job sequence: \";        // Output the jobs that are scheduled    for (int i = 0; i < n; i++) {        if (slot[i] != -1) {            cout << jobs[slot[i]].id << \" \";        }    }    cout << endl;\n",
      "Job Sequence for minor 1#include <iostream>#include <vector>#include <algorithm>using namespace std;// Structure to represent a jobstruct Job {    int id;        // Job ID    int deadline;  // Deadline of the job    int profit;    // Profit of the job};// Comparison function to sort jobs in decreasing order of profitbool compare(Job a, Job b) {    return a.profit > b.profit;}// Function to perform job sequencing with deadlinesvoid jobSequencing(Job jobs[], int n) {    // Sort the jobs based on profit in decreasing order    sort(jobs, jobs + n, compare);        // Create a vector to track the available time slots (initialized as -1)    vector<int> slot(n, -1);    int totalProfit = 0;        // Iterate through all the jobs    for (int i = 0; i < n; i++) {        // Find a slot for this job (starting from the last available slot)        for (int j = min(n, jobs[i].deadline) - 1; j >= 0; j--) {            if (slot[j] == -1) { // If the slot is available                slot[j] = i;     // Assign the job to this slot                totalProfit += jobs[i].profit; // Add the profit to the total                break;            }        }    }    // Output the total profit    cout << \"Total profit: \" << totalProfit << endl;    cout << \"Job sequence: \";        // Output the jobs that are scheduled    for (int i = 0; i < n; i++) {        if (slot[i] != -1) {            cout << jobs[slot[i]].id << \" \";        }    }    cout << endl;}\n",
      "Job Sequence for minor 1#include <iostream>#include <vector>#include <algorithm>using namespace std;// Structure to represent a jobstruct Job {    int id;        // Job ID    int deadline;  // Deadline of the job    int profit;    // Profit of the job};// Comparison function to sort jobs in decreasing order of profitbool compare(Job a, Job b) {    return a.profit > b.profit;}// Function to perform job sequencing with deadlinesvoid jobSequencing(Job jobs[], int n) {    // Sort the jobs based on profit in decreasing order    sort(jobs, jobs + n, compare);        // Create a vector to track the available time slots (initialized as -1)    vector<int> slot(n, -1);    int totalProfit = 0;        // Iterate through all the jobs    for (int i = 0; i < n; i++) {        // Find a slot for this job (starting from the last available slot)        for (int j = min(n, jobs[i].deadline) - 1; j >= 0; j--) {            if (slot[j] == -1) { // If the slot is available                slot[j] = i;     // Assign the job to this slot                totalProfit += jobs[i].profit; // Add the profit to the total                break;            }        }    }    // Output the total profit    cout << \"Total profit: \" << totalProfit << endl;    cout << \"Job sequence: \";        // Output the jobs that are scheduled    for (int i = 0; i < n; i++) {        if (slot[i] != -1) {            cout << jobs[slot[i]].id << \" \";        }    }    cout << endl;}\n",
      "Job Sequence for minor 1#include <iostream>#include <vector>#include <algorithm>using namespace std;// Structure to represent a jobstruct Job {    int id;        // Job ID    int deadline;  // Deadline of the job    int profit;    // Profit of the job};// Comparison function to sort jobs in decreasing order of profitbool compare(Job a, Job b) {    return a.profit > b.profit;}// Function to perform job sequencing with deadlinesvoid jobSequencing(Job jobs[], int n) {    // Sort the jobs based on profit in decreasing order    sort(jobs, jobs + n, compare);        // Create a vector to track the available time slots (initialized as -1)    vector<int> slot(n, -1);    int totalProfit = 0;        // Iterate through all the jobs    for (int i = 0; i < n; i++) {        // Find a slot for this job (starting from the last available slot)        for (int j = min(n, jobs[i].deadline) - 1; j >= 0; j--) {            if (slot[j] == -1) { // If the slot is available                slot[j] = i;     // Assign the job to this slot                totalProfit += jobs[i].profit; // Add the profit to the total                break;            }        }    }    // Output the total profit    cout << \"Total profit: \" << totalProfit << endl;    cout << \"Job sequence: \";        // Output the jobs that are scheduled    for (int i = 0; i < n; i++) {        if (slot[i] != -1) {            cout << jobs[slot[i]].id << \" \";        }    }    cout << endl;}int main() {\n",
      "Job Sequence for minor 1#include <iostream>#include <vector>#include <algorithm>using namespace std;// Structure to represent a jobstruct Job {    int id;        // Job ID    int deadline;  // Deadline of the job    int profit;    // Profit of the job};// Comparison function to sort jobs in decreasing order of profitbool compare(Job a, Job b) {    return a.profit > b.profit;}// Function to perform job sequencing with deadlinesvoid jobSequencing(Job jobs[], int n) {    // Sort the jobs based on profit in decreasing order    sort(jobs, jobs + n, compare);        // Create a vector to track the available time slots (initialized as -1)    vector<int> slot(n, -1);    int totalProfit = 0;        // Iterate through all the jobs    for (int i = 0; i < n; i++) {        // Find a slot for this job (starting from the last available slot)        for (int j = min(n, jobs[i].deadline) - 1; j >= 0; j--) {            if (slot[j] == -1) { // If the slot is available                slot[j] = i;     // Assign the job to this slot                totalProfit += jobs[i].profit; // Add the profit to the total                break;            }        }    }    // Output the total profit    cout << \"Total profit: \" << totalProfit << endl;    cout << \"Job sequence: \";        // Output the jobs that are scheduled    for (int i = 0; i < n; i++) {        if (slot[i] != -1) {            cout << jobs[slot[i]].id << \" \";        }    }    cout << endl;}int main() {    // Example job data: {Job ID, Deadline, Profit}\n",
      "Job Sequence for minor 1#include <iostream>#include <vector>#include <algorithm>using namespace std;// Structure to represent a jobstruct Job {    int id;        // Job ID    int deadline;  // Deadline of the job    int profit;    // Profit of the job};// Comparison function to sort jobs in decreasing order of profitbool compare(Job a, Job b) {    return a.profit > b.profit;}// Function to perform job sequencing with deadlinesvoid jobSequencing(Job jobs[], int n) {    // Sort the jobs based on profit in decreasing order    sort(jobs, jobs + n, compare);        // Create a vector to track the available time slots (initialized as -1)    vector<int> slot(n, -1);    int totalProfit = 0;        // Iterate through all the jobs    for (int i = 0; i < n; i++) {        // Find a slot for this job (starting from the last available slot)        for (int j = min(n, jobs[i].deadline) - 1; j >= 0; j--) {            if (slot[j] == -1) { // If the slot is available                slot[j] = i;     // Assign the job to this slot                totalProfit += jobs[i].profit; // Add the profit to the total                break;            }        }    }    // Output the total profit    cout << \"Total profit: \" << totalProfit << endl;    cout << \"Job sequence: \";        // Output the jobs that are scheduled    for (int i = 0; i < n; i++) {        if (slot[i] != -1) {            cout << jobs[slot[i]].id << \" \";        }    }    cout << endl;}int main() {    // Example job data: {Job ID, Deadline, Profit}    Job jobs[] = {\n",
      "Job Sequence for minor 1#include <iostream>#include <vector>#include <algorithm>using namespace std;// Structure to represent a jobstruct Job {    int id;        // Job ID    int deadline;  // Deadline of the job    int profit;    // Profit of the job};// Comparison function to sort jobs in decreasing order of profitbool compare(Job a, Job b) {    return a.profit > b.profit;}// Function to perform job sequencing with deadlinesvoid jobSequencing(Job jobs[], int n) {    // Sort the jobs based on profit in decreasing order    sort(jobs, jobs + n, compare);        // Create a vector to track the available time slots (initialized as -1)    vector<int> slot(n, -1);    int totalProfit = 0;        // Iterate through all the jobs    for (int i = 0; i < n; i++) {        // Find a slot for this job (starting from the last available slot)        for (int j = min(n, jobs[i].deadline) - 1; j >= 0; j--) {            if (slot[j] == -1) { // If the slot is available                slot[j] = i;     // Assign the job to this slot                totalProfit += jobs[i].profit; // Add the profit to the total                break;            }        }    }    // Output the total profit    cout << \"Total profit: \" << totalProfit << endl;    cout << \"Job sequence: \";        // Output the jobs that are scheduled    for (int i = 0; i < n; i++) {        if (slot[i] != -1) {            cout << jobs[slot[i]].id << \" \";        }    }    cout << endl;}int main() {    // Example job data: {Job ID, Deadline, Profit}    Job jobs[] = {        {1, 4, 20},\n",
      "Job Sequence for minor 1#include <iostream>#include <vector>#include <algorithm>using namespace std;// Structure to represent a jobstruct Job {    int id;        // Job ID    int deadline;  // Deadline of the job    int profit;    // Profit of the job};// Comparison function to sort jobs in decreasing order of profitbool compare(Job a, Job b) {    return a.profit > b.profit;}// Function to perform job sequencing with deadlinesvoid jobSequencing(Job jobs[], int n) {    // Sort the jobs based on profit in decreasing order    sort(jobs, jobs + n, compare);        // Create a vector to track the available time slots (initialized as -1)    vector<int> slot(n, -1);    int totalProfit = 0;        // Iterate through all the jobs    for (int i = 0; i < n; i++) {        // Find a slot for this job (starting from the last available slot)        for (int j = min(n, jobs[i].deadline) - 1; j >= 0; j--) {            if (slot[j] == -1) { // If the slot is available                slot[j] = i;     // Assign the job to this slot                totalProfit += jobs[i].profit; // Add the profit to the total                break;            }        }    }    // Output the total profit    cout << \"Total profit: \" << totalProfit << endl;    cout << \"Job sequence: \";        // Output the jobs that are scheduled    for (int i = 0; i < n; i++) {        if (slot[i] != -1) {            cout << jobs[slot[i]].id << \" \";        }    }    cout << endl;}int main() {    // Example job data: {Job ID, Deadline, Profit}    Job jobs[] = {        {1, 4, 20},        {2, 1, 10},\n",
      "Job Sequence for minor 1#include <iostream>#include <vector>#include <algorithm>using namespace std;// Structure to represent a jobstruct Job {    int id;        // Job ID    int deadline;  // Deadline of the job    int profit;    // Profit of the job};// Comparison function to sort jobs in decreasing order of profitbool compare(Job a, Job b) {    return a.profit > b.profit;}// Function to perform job sequencing with deadlinesvoid jobSequencing(Job jobs[], int n) {    // Sort the jobs based on profit in decreasing order    sort(jobs, jobs + n, compare);        // Create a vector to track the available time slots (initialized as -1)    vector<int> slot(n, -1);    int totalProfit = 0;        // Iterate through all the jobs    for (int i = 0; i < n; i++) {        // Find a slot for this job (starting from the last available slot)        for (int j = min(n, jobs[i].deadline) - 1; j >= 0; j--) {            if (slot[j] == -1) { // If the slot is available                slot[j] = i;     // Assign the job to this slot                totalProfit += jobs[i].profit; // Add the profit to the total                break;            }        }    }    // Output the total profit    cout << \"Total profit: \" << totalProfit << endl;    cout << \"Job sequence: \";        // Output the jobs that are scheduled    for (int i = 0; i < n; i++) {        if (slot[i] != -1) {            cout << jobs[slot[i]].id << \" \";        }    }    cout << endl;}int main() {    // Example job data: {Job ID, Deadline, Profit}    Job jobs[] = {        {1, 4, 20},        {2, 1, 10},        {3, 1, 40},\n",
      "Job Sequence for minor 1#include <iostream>#include <vector>#include <algorithm>using namespace std;// Structure to represent a jobstruct Job {    int id;        // Job ID    int deadline;  // Deadline of the job    int profit;    // Profit of the job};// Comparison function to sort jobs in decreasing order of profitbool compare(Job a, Job b) {    return a.profit > b.profit;}// Function to perform job sequencing with deadlinesvoid jobSequencing(Job jobs[], int n) {    // Sort the jobs based on profit in decreasing order    sort(jobs, jobs + n, compare);        // Create a vector to track the available time slots (initialized as -1)    vector<int> slot(n, -1);    int totalProfit = 0;        // Iterate through all the jobs    for (int i = 0; i < n; i++) {        // Find a slot for this job (starting from the last available slot)        for (int j = min(n, jobs[i].deadline) - 1; j >= 0; j--) {            if (slot[j] == -1) { // If the slot is available                slot[j] = i;     // Assign the job to this slot                totalProfit += jobs[i].profit; // Add the profit to the total                break;            }        }    }    // Output the total profit    cout << \"Total profit: \" << totalProfit << endl;    cout << \"Job sequence: \";        // Output the jobs that are scheduled    for (int i = 0; i < n; i++) {        if (slot[i] != -1) {            cout << jobs[slot[i]].id << \" \";        }    }    cout << endl;}int main() {    // Example job data: {Job ID, Deadline, Profit}    Job jobs[] = {        {1, 4, 20},        {2, 1, 10},        {3, 1, 40},        {4, 1, 30},\n",
      "Job Sequence for minor 1#include <iostream>#include <vector>#include <algorithm>using namespace std;// Structure to represent a jobstruct Job {    int id;        // Job ID    int deadline;  // Deadline of the job    int profit;    // Profit of the job};// Comparison function to sort jobs in decreasing order of profitbool compare(Job a, Job b) {    return a.profit > b.profit;}// Function to perform job sequencing with deadlinesvoid jobSequencing(Job jobs[], int n) {    // Sort the jobs based on profit in decreasing order    sort(jobs, jobs + n, compare);        // Create a vector to track the available time slots (initialized as -1)    vector<int> slot(n, -1);    int totalProfit = 0;        // Iterate through all the jobs    for (int i = 0; i < n; i++) {        // Find a slot for this job (starting from the last available slot)        for (int j = min(n, jobs[i].deadline) - 1; j >= 0; j--) {            if (slot[j] == -1) { // If the slot is available                slot[j] = i;     // Assign the job to this slot                totalProfit += jobs[i].profit; // Add the profit to the total                break;            }        }    }    // Output the total profit    cout << \"Total profit: \" << totalProfit << endl;    cout << \"Job sequence: \";        // Output the jobs that are scheduled    for (int i = 0; i < n; i++) {        if (slot[i] != -1) {            cout << jobs[slot[i]].id << \" \";        }    }    cout << endl;}int main() {    // Example job data: {Job ID, Deadline, Profit}    Job jobs[] = {        {1, 4, 20},        {2, 1, 10},        {3, 1, 40},        {4, 1, 30},        {5, 3, 50}\n",
      "Job Sequence for minor 1#include <iostream>#include <vector>#include <algorithm>using namespace std;// Structure to represent a jobstruct Job {    int id;        // Job ID    int deadline;  // Deadline of the job    int profit;    // Profit of the job};// Comparison function to sort jobs in decreasing order of profitbool compare(Job a, Job b) {    return a.profit > b.profit;}// Function to perform job sequencing with deadlinesvoid jobSequencing(Job jobs[], int n) {    // Sort the jobs based on profit in decreasing order    sort(jobs, jobs + n, compare);        // Create a vector to track the available time slots (initialized as -1)    vector<int> slot(n, -1);    int totalProfit = 0;        // Iterate through all the jobs    for (int i = 0; i < n; i++) {        // Find a slot for this job (starting from the last available slot)        for (int j = min(n, jobs[i].deadline) - 1; j >= 0; j--) {            if (slot[j] == -1) { // If the slot is available                slot[j] = i;     // Assign the job to this slot                totalProfit += jobs[i].profit; // Add the profit to the total                break;            }        }    }    // Output the total profit    cout << \"Total profit: \" << totalProfit << endl;    cout << \"Job sequence: \";        // Output the jobs that are scheduled    for (int i = 0; i < n; i++) {        if (slot[i] != -1) {            cout << jobs[slot[i]].id << \" \";        }    }    cout << endl;}int main() {    // Example job data: {Job ID, Deadline, Profit}    Job jobs[] = {        {1, 4, 20},        {2, 1, 10},        {3, 1, 40},        {4, 1, 30},        {5, 3, 50}    };\n",
      "Job Sequence for minor 1#include <iostream>#include <vector>#include <algorithm>using namespace std;// Structure to represent a jobstruct Job {    int id;        // Job ID    int deadline;  // Deadline of the job    int profit;    // Profit of the job};// Comparison function to sort jobs in decreasing order of profitbool compare(Job a, Job b) {    return a.profit > b.profit;}// Function to perform job sequencing with deadlinesvoid jobSequencing(Job jobs[], int n) {    // Sort the jobs based on profit in decreasing order    sort(jobs, jobs + n, compare);        // Create a vector to track the available time slots (initialized as -1)    vector<int> slot(n, -1);    int totalProfit = 0;        // Iterate through all the jobs    for (int i = 0; i < n; i++) {        // Find a slot for this job (starting from the last available slot)        for (int j = min(n, jobs[i].deadline) - 1; j >= 0; j--) {            if (slot[j] == -1) { // If the slot is available                slot[j] = i;     // Assign the job to this slot                totalProfit += jobs[i].profit; // Add the profit to the total                break;            }        }    }    // Output the total profit    cout << \"Total profit: \" << totalProfit << endl;    cout << \"Job sequence: \";        // Output the jobs that are scheduled    for (int i = 0; i < n; i++) {        if (slot[i] != -1) {            cout << jobs[slot[i]].id << \" \";        }    }    cout << endl;}int main() {    // Example job data: {Job ID, Deadline, Profit}    Job jobs[] = {        {1, 4, 20},        {2, 1, 10},        {3, 1, 40},        {4, 1, 30},        {5, 3, 50}    };    \n",
      "Job Sequence for minor 1#include <iostream>#include <vector>#include <algorithm>using namespace std;// Structure to represent a jobstruct Job {    int id;        // Job ID    int deadline;  // Deadline of the job    int profit;    // Profit of the job};// Comparison function to sort jobs in decreasing order of profitbool compare(Job a, Job b) {    return a.profit > b.profit;}// Function to perform job sequencing with deadlinesvoid jobSequencing(Job jobs[], int n) {    // Sort the jobs based on profit in decreasing order    sort(jobs, jobs + n, compare);        // Create a vector to track the available time slots (initialized as -1)    vector<int> slot(n, -1);    int totalProfit = 0;        // Iterate through all the jobs    for (int i = 0; i < n; i++) {        // Find a slot for this job (starting from the last available slot)        for (int j = min(n, jobs[i].deadline) - 1; j >= 0; j--) {            if (slot[j] == -1) { // If the slot is available                slot[j] = i;     // Assign the job to this slot                totalProfit += jobs[i].profit; // Add the profit to the total                break;            }        }    }    // Output the total profit    cout << \"Total profit: \" << totalProfit << endl;    cout << \"Job sequence: \";        // Output the jobs that are scheduled    for (int i = 0; i < n; i++) {        if (slot[i] != -1) {            cout << jobs[slot[i]].id << \" \";        }    }    cout << endl;}int main() {    // Example job data: {Job ID, Deadline, Profit}    Job jobs[] = {        {1, 4, 20},        {2, 1, 10},        {3, 1, 40},        {4, 1, 30},        {5, 3, 50}    };        int n = sizeof(jobs) / sizeof(jobs[0]);\n",
      "Job Sequence for minor 1#include <iostream>#include <vector>#include <algorithm>using namespace std;// Structure to represent a jobstruct Job {    int id;        // Job ID    int deadline;  // Deadline of the job    int profit;    // Profit of the job};// Comparison function to sort jobs in decreasing order of profitbool compare(Job a, Job b) {    return a.profit > b.profit;}// Function to perform job sequencing with deadlinesvoid jobSequencing(Job jobs[], int n) {    // Sort the jobs based on profit in decreasing order    sort(jobs, jobs + n, compare);        // Create a vector to track the available time slots (initialized as -1)    vector<int> slot(n, -1);    int totalProfit = 0;        // Iterate through all the jobs    for (int i = 0; i < n; i++) {        // Find a slot for this job (starting from the last available slot)        for (int j = min(n, jobs[i].deadline) - 1; j >= 0; j--) {            if (slot[j] == -1) { // If the slot is available                slot[j] = i;     // Assign the job to this slot                totalProfit += jobs[i].profit; // Add the profit to the total                break;            }        }    }    // Output the total profit    cout << \"Total profit: \" << totalProfit << endl;    cout << \"Job sequence: \";        // Output the jobs that are scheduled    for (int i = 0; i < n; i++) {        if (slot[i] != -1) {            cout << jobs[slot[i]].id << \" \";        }    }    cout << endl;}int main() {    // Example job data: {Job ID, Deadline, Profit}    Job jobs[] = {        {1, 4, 20},        {2, 1, 10},        {3, 1, 40},        {4, 1, 30},        {5, 3, 50}    };        int n = sizeof(jobs) / sizeof(jobs[0]);\n",
      "Job Sequence for minor 1#include <iostream>#include <vector>#include <algorithm>using namespace std;// Structure to represent a jobstruct Job {    int id;        // Job ID    int deadline;  // Deadline of the job    int profit;    // Profit of the job};// Comparison function to sort jobs in decreasing order of profitbool compare(Job a, Job b) {    return a.profit > b.profit;}// Function to perform job sequencing with deadlinesvoid jobSequencing(Job jobs[], int n) {    // Sort the jobs based on profit in decreasing order    sort(jobs, jobs + n, compare);        // Create a vector to track the available time slots (initialized as -1)    vector<int> slot(n, -1);    int totalProfit = 0;        // Iterate through all the jobs    for (int i = 0; i < n; i++) {        // Find a slot for this job (starting from the last available slot)        for (int j = min(n, jobs[i].deadline) - 1; j >= 0; j--) {            if (slot[j] == -1) { // If the slot is available                slot[j] = i;     // Assign the job to this slot                totalProfit += jobs[i].profit; // Add the profit to the total                break;            }        }    }    // Output the total profit    cout << \"Total profit: \" << totalProfit << endl;    cout << \"Job sequence: \";        // Output the jobs that are scheduled    for (int i = 0; i < n; i++) {        if (slot[i] != -1) {            cout << jobs[slot[i]].id << \" \";        }    }    cout << endl;}int main() {    // Example job data: {Job ID, Deadline, Profit}    Job jobs[] = {        {1, 4, 20},        {2, 1, 10},        {3, 1, 40},        {4, 1, 30},        {5, 3, 50}    };        int n = sizeof(jobs) / sizeof(jobs[0]);    // Call the job sequencing function\n",
      "Job Sequence for minor 1#include <iostream>#include <vector>#include <algorithm>using namespace std;// Structure to represent a jobstruct Job {    int id;        // Job ID    int deadline;  // Deadline of the job    int profit;    // Profit of the job};// Comparison function to sort jobs in decreasing order of profitbool compare(Job a, Job b) {    return a.profit > b.profit;}// Function to perform job sequencing with deadlinesvoid jobSequencing(Job jobs[], int n) {    // Sort the jobs based on profit in decreasing order    sort(jobs, jobs + n, compare);        // Create a vector to track the available time slots (initialized as -1)    vector<int> slot(n, -1);    int totalProfit = 0;        // Iterate through all the jobs    for (int i = 0; i < n; i++) {        // Find a slot for this job (starting from the last available slot)        for (int j = min(n, jobs[i].deadline) - 1; j >= 0; j--) {            if (slot[j] == -1) { // If the slot is available                slot[j] = i;     // Assign the job to this slot                totalProfit += jobs[i].profit; // Add the profit to the total                break;            }        }    }    // Output the total profit    cout << \"Total profit: \" << totalProfit << endl;    cout << \"Job sequence: \";        // Output the jobs that are scheduled    for (int i = 0; i < n; i++) {        if (slot[i] != -1) {            cout << jobs[slot[i]].id << \" \";        }    }    cout << endl;}int main() {    // Example job data: {Job ID, Deadline, Profit}    Job jobs[] = {        {1, 4, 20},        {2, 1, 10},        {3, 1, 40},        {4, 1, 30},        {5, 3, 50}    };        int n = sizeof(jobs) / sizeof(jobs[0]);    // Call the job sequencing function    jobSequencing(jobs, n);\n",
      "Job Sequence for minor 1#include <iostream>#include <vector>#include <algorithm>using namespace std;// Structure to represent a jobstruct Job {    int id;        // Job ID    int deadline;  // Deadline of the job    int profit;    // Profit of the job};// Comparison function to sort jobs in decreasing order of profitbool compare(Job a, Job b) {    return a.profit > b.profit;}// Function to perform job sequencing with deadlinesvoid jobSequencing(Job jobs[], int n) {    // Sort the jobs based on profit in decreasing order    sort(jobs, jobs + n, compare);        // Create a vector to track the available time slots (initialized as -1)    vector<int> slot(n, -1);    int totalProfit = 0;        // Iterate through all the jobs    for (int i = 0; i < n; i++) {        // Find a slot for this job (starting from the last available slot)        for (int j = min(n, jobs[i].deadline) - 1; j >= 0; j--) {            if (slot[j] == -1) { // If the slot is available                slot[j] = i;     // Assign the job to this slot                totalProfit += jobs[i].profit; // Add the profit to the total                break;            }        }    }    // Output the total profit    cout << \"Total profit: \" << totalProfit << endl;    cout << \"Job sequence: \";        // Output the jobs that are scheduled    for (int i = 0; i < n; i++) {        if (slot[i] != -1) {            cout << jobs[slot[i]].id << \" \";        }    }    cout << endl;}int main() {    // Example job data: {Job ID, Deadline, Profit}    Job jobs[] = {        {1, 4, 20},        {2, 1, 10},        {3, 1, 40},        {4, 1, 30},        {5, 3, 50}    };        int n = sizeof(jobs) / sizeof(jobs[0]);    // Call the job sequencing function    jobSequencing(jobs, n);\n",
      "Job Sequence for minor 1#include <iostream>#include <vector>#include <algorithm>using namespace std;// Structure to represent a jobstruct Job {    int id;        // Job ID    int deadline;  // Deadline of the job    int profit;    // Profit of the job};// Comparison function to sort jobs in decreasing order of profitbool compare(Job a, Job b) {    return a.profit > b.profit;}// Function to perform job sequencing with deadlinesvoid jobSequencing(Job jobs[], int n) {    // Sort the jobs based on profit in decreasing order    sort(jobs, jobs + n, compare);        // Create a vector to track the available time slots (initialized as -1)    vector<int> slot(n, -1);    int totalProfit = 0;        // Iterate through all the jobs    for (int i = 0; i < n; i++) {        // Find a slot for this job (starting from the last available slot)        for (int j = min(n, jobs[i].deadline) - 1; j >= 0; j--) {            if (slot[j] == -1) { // If the slot is available                slot[j] = i;     // Assign the job to this slot                totalProfit += jobs[i].profit; // Add the profit to the total                break;            }        }    }    // Output the total profit    cout << \"Total profit: \" << totalProfit << endl;    cout << \"Job sequence: \";        // Output the jobs that are scheduled    for (int i = 0; i < n; i++) {        if (slot[i] != -1) {            cout << jobs[slot[i]].id << \" \";        }    }    cout << endl;}int main() {    // Example job data: {Job ID, Deadline, Profit}    Job jobs[] = {        {1, 4, 20},        {2, 1, 10},        {3, 1, 40},        {4, 1, 30},        {5, 3, 50}    };        int n = sizeof(jobs) / sizeof(jobs[0]);    // Call the job sequencing function    jobSequencing(jobs, n);    return 0;\n",
      "Job Sequence for minor 1#include <iostream>#include <vector>#include <algorithm>using namespace std;// Structure to represent a jobstruct Job {    int id;        // Job ID    int deadline;  // Deadline of the job    int profit;    // Profit of the job};// Comparison function to sort jobs in decreasing order of profitbool compare(Job a, Job b) {    return a.profit > b.profit;}// Function to perform job sequencing with deadlinesvoid jobSequencing(Job jobs[], int n) {    // Sort the jobs based on profit in decreasing order    sort(jobs, jobs + n, compare);        // Create a vector to track the available time slots (initialized as -1)    vector<int> slot(n, -1);    int totalProfit = 0;        // Iterate through all the jobs    for (int i = 0; i < n; i++) {        // Find a slot for this job (starting from the last available slot)        for (int j = min(n, jobs[i].deadline) - 1; j >= 0; j--) {            if (slot[j] == -1) { // If the slot is available                slot[j] = i;     // Assign the job to this slot                totalProfit += jobs[i].profit; // Add the profit to the total                break;            }        }    }    // Output the total profit    cout << \"Total profit: \" << totalProfit << endl;    cout << \"Job sequence: \";        // Output the jobs that are scheduled    for (int i = 0; i < n; i++) {        if (slot[i] != -1) {            cout << jobs[slot[i]].id << \" \";        }    }    cout << endl;}int main() {    // Example job data: {Job ID, Deadline, Profit}    Job jobs[] = {        {1, 4, 20},        {2, 1, 10},        {3, 1, 40},        {4, 1, 30},        {5, 3, 50}    };        int n = sizeof(jobs) / sizeof(jobs[0]);    // Call the job sequencing function    jobSequencing(jobs, n);    return 0;}\n"
     ]
    }
   ],
   "source": [
    "docu=\"\"\n",
    "for para in document.paragraphs:\n",
    "    docu+=para.text\n",
    "    print(docu)"
   ]
  },
  {
   "cell_type": "code",
   "execution_count": 43,
   "id": "fa3c54f3-8331-4961-8508-2b361040854c",
   "metadata": {},
   "outputs": [
    {
     "name": "stdout",
     "output_type": "stream",
     "text": [
      "The content of the paragraph 0 is:Job Sequence for minor 1\n",
      "\n",
      "The content of the paragraph 1 is:#include <iostream>\n",
      "\n",
      "The content of the paragraph 2 is:#include <vector>\n",
      "\n",
      "The content of the paragraph 3 is:#include <algorithm>\n",
      "\n",
      "The content of the paragraph 4 is:\n",
      "\n",
      "The content of the paragraph 5 is:using namespace std;\n",
      "\n",
      "The content of the paragraph 6 is:\n",
      "\n",
      "The content of the paragraph 7 is:// Structure to represent a job\n",
      "\n",
      "The content of the paragraph 8 is:struct Job {\n",
      "\n",
      "The content of the paragraph 9 is:    int id;        // Job ID\n",
      "\n",
      "The content of the paragraph 10 is:    int deadline;  // Deadline of the job\n",
      "\n",
      "The content of the paragraph 11 is:    int profit;    // Profit of the job\n",
      "\n",
      "The content of the paragraph 12 is:};\n",
      "\n",
      "The content of the paragraph 13 is:\n",
      "\n",
      "The content of the paragraph 14 is:// Comparison function to sort jobs in decreasing order of profit\n",
      "\n",
      "The content of the paragraph 15 is:bool compare(Job a, Job b) {\n",
      "\n",
      "The content of the paragraph 16 is:    return a.profit > b.profit;\n",
      "\n",
      "The content of the paragraph 17 is:}\n",
      "\n",
      "The content of the paragraph 18 is:\n",
      "\n",
      "The content of the paragraph 19 is:// Function to perform job sequencing with deadlines\n",
      "\n",
      "The content of the paragraph 20 is:void jobSequencing(Job jobs[], int n) {\n",
      "\n",
      "The content of the paragraph 21 is:    // Sort the jobs based on profit in decreasing order\n",
      "\n",
      "The content of the paragraph 22 is:    sort(jobs, jobs + n, compare);\n",
      "\n",
      "The content of the paragraph 23 is:    \n",
      "\n",
      "The content of the paragraph 24 is:    // Create a vector to track the available time slots (initialized as -1)\n",
      "\n",
      "The content of the paragraph 25 is:    vector<int> slot(n, -1);\n",
      "\n",
      "The content of the paragraph 26 is:\n",
      "\n",
      "The content of the paragraph 27 is:    int totalProfit = 0;\n",
      "\n",
      "The content of the paragraph 28 is:    \n",
      "\n",
      "The content of the paragraph 29 is:    // Iterate through all the jobs\n",
      "\n",
      "The content of the paragraph 30 is:    for (int i = 0; i < n; i++) {\n",
      "\n",
      "The content of the paragraph 31 is:        // Find a slot for this job (starting from the last available slot)\n",
      "\n",
      "The content of the paragraph 32 is:        for (int j = min(n, jobs[i].deadline) - 1; j >= 0; j--) {\n",
      "\n",
      "The content of the paragraph 33 is:            if (slot[j] == -1) { // If the slot is available\n",
      "\n",
      "The content of the paragraph 34 is:                slot[j] = i;     // Assign the job to this slot\n",
      "\n",
      "The content of the paragraph 35 is:                totalProfit += jobs[i].profit; // Add the profit to the total\n",
      "\n",
      "The content of the paragraph 36 is:                break;\n",
      "\n",
      "The content of the paragraph 37 is:            }\n",
      "\n",
      "The content of the paragraph 38 is:        }\n",
      "\n",
      "The content of the paragraph 39 is:    }\n",
      "\n",
      "The content of the paragraph 40 is:\n",
      "\n",
      "The content of the paragraph 41 is:    // Output the total profit\n",
      "\n",
      "The content of the paragraph 42 is:    cout << \"Total profit: \" << totalProfit << endl;\n",
      "\n",
      "The content of the paragraph 43 is:    cout << \"Job sequence: \";\n",
      "\n",
      "The content of the paragraph 44 is:    \n",
      "\n",
      "The content of the paragraph 45 is:    // Output the jobs that are scheduled\n",
      "\n",
      "The content of the paragraph 46 is:    for (int i = 0; i < n; i++) {\n",
      "\n",
      "The content of the paragraph 47 is:        if (slot[i] != -1) {\n",
      "\n",
      "The content of the paragraph 48 is:            cout << jobs[slot[i]].id << \" \";\n",
      "\n",
      "The content of the paragraph 49 is:        }\n",
      "\n",
      "The content of the paragraph 50 is:    }\n",
      "\n",
      "The content of the paragraph 51 is:    cout << endl;\n",
      "\n",
      "The content of the paragraph 52 is:}\n",
      "\n",
      "The content of the paragraph 53 is:\n",
      "\n",
      "The content of the paragraph 54 is:int main() {\n",
      "\n",
      "The content of the paragraph 55 is:    // Example job data: {Job ID, Deadline, Profit}\n",
      "\n",
      "The content of the paragraph 56 is:    Job jobs[] = {\n",
      "\n",
      "The content of the paragraph 57 is:        {1, 4, 20},\n",
      "\n",
      "The content of the paragraph 58 is:        {2, 1, 10},\n",
      "\n",
      "The content of the paragraph 59 is:        {3, 1, 40},\n",
      "\n",
      "The content of the paragraph 60 is:        {4, 1, 30},\n",
      "\n",
      "The content of the paragraph 61 is:        {5, 3, 50}\n",
      "\n",
      "The content of the paragraph 62 is:    };\n",
      "\n",
      "The content of the paragraph 63 is:    \n",
      "\n",
      "The content of the paragraph 64 is:    int n = sizeof(jobs) / sizeof(jobs[0]);\n",
      "\n",
      "The content of the paragraph 65 is:\n",
      "\n",
      "The content of the paragraph 66 is:    // Call the job sequencing function\n",
      "\n",
      "The content of the paragraph 67 is:    jobSequencing(jobs, n);\n",
      "\n",
      "The content of the paragraph 68 is:\n",
      "\n",
      "The content of the paragraph 69 is:    return 0;\n",
      "\n",
      "The content of the paragraph 70 is:}\n",
      "\n"
     ]
    }
   ],
   "source": [
    "for i in range(len(document.paragraphs)):\n",
    "    print(\"The content of the paragraph \"+ str(i)+\" is:\"+document.paragraphs[i].text+\"\\n\")"
   ]
  },
  {
   "cell_type": "markdown",
   "id": "c734885c-c6a6-4066-b78e-db8d25339119",
   "metadata": {},
   "source": [
    "Collecting data from  HTML"
   ]
  },
  {
   "cell_type": "code",
   "execution_count": 47,
   "id": "b4ebadd7-f31f-414a-878c-dac06e91cc54",
   "metadata": {},
   "outputs": [
    {
     "name": "stdout",
     "output_type": "stream",
     "text": [
      "Collecting bs4\n",
      "  Downloading bs4-0.0.2-py2.py3-none-any.whl.metadata (411 bytes)\n",
      "Requirement already satisfied: beautifulsoup4 in /opt/anaconda3/lib/python3.12/site-packages (from bs4) (4.12.3)\n",
      "Requirement already satisfied: soupsieve>1.2 in /opt/anaconda3/lib/python3.12/site-packages (from beautifulsoup4->bs4) (2.5)\n",
      "Downloading bs4-0.0.2-py2.py3-none-any.whl (1.2 kB)\n",
      "Installing collected packages: bs4\n",
      "Successfully installed bs4-0.0.2\n"
     ]
    }
   ],
   "source": [
    "!pip install bs4"
   ]
  },
  {
   "cell_type": "code",
   "execution_count": 68,
   "id": "d6c77c34-5c24-493b-abe2-0828728589e5",
   "metadata": {},
   "outputs": [],
   "source": [
    "import urllib.request as urllib2\n",
    "from bs4 import BeautifulSoup"
   ]
  },
  {
   "cell_type": "code",
   "execution_count": 72,
   "id": "9eda8db1-d0df-4823-9ffe-7c5cd9d31214",
   "metadata": {},
   "outputs": [
    {
     "ename": "URLError",
     "evalue": "<urlopen error [Errno 8] nodename nor servname provided, or not known>",
     "output_type": "error",
     "traceback": [
      "\u001b[0;31m---------------------------------------------------------------------------\u001b[0m",
      "\u001b[0;31mgaierror\u001b[0m                                  Traceback (most recent call last)",
      "File \u001b[0;32m/opt/anaconda3/lib/python3.12/urllib/request.py:1344\u001b[0m, in \u001b[0;36mAbstractHTTPHandler.do_open\u001b[0;34m(self, http_class, req, **http_conn_args)\u001b[0m\n\u001b[1;32m   1343\u001b[0m \u001b[38;5;28;01mtry\u001b[39;00m:\n\u001b[0;32m-> 1344\u001b[0m     h\u001b[38;5;241m.\u001b[39mrequest(req\u001b[38;5;241m.\u001b[39mget_method(), req\u001b[38;5;241m.\u001b[39mselector, req\u001b[38;5;241m.\u001b[39mdata, headers,\n\u001b[1;32m   1345\u001b[0m               encode_chunked\u001b[38;5;241m=\u001b[39mreq\u001b[38;5;241m.\u001b[39mhas_header(\u001b[38;5;124m'\u001b[39m\u001b[38;5;124mTransfer-encoding\u001b[39m\u001b[38;5;124m'\u001b[39m))\n\u001b[1;32m   1346\u001b[0m \u001b[38;5;28;01mexcept\u001b[39;00m \u001b[38;5;167;01mOSError\u001b[39;00m \u001b[38;5;28;01mas\u001b[39;00m err: \u001b[38;5;66;03m# timeout error\u001b[39;00m\n",
      "File \u001b[0;32m/opt/anaconda3/lib/python3.12/http/client.py:1336\u001b[0m, in \u001b[0;36mHTTPConnection.request\u001b[0;34m(self, method, url, body, headers, encode_chunked)\u001b[0m\n\u001b[1;32m   1335\u001b[0m \u001b[38;5;250m\u001b[39m\u001b[38;5;124;03m\"\"\"Send a complete request to the server.\"\"\"\u001b[39;00m\n\u001b[0;32m-> 1336\u001b[0m \u001b[38;5;28mself\u001b[39m\u001b[38;5;241m.\u001b[39m_send_request(method, url, body, headers, encode_chunked)\n",
      "File \u001b[0;32m/opt/anaconda3/lib/python3.12/http/client.py:1382\u001b[0m, in \u001b[0;36mHTTPConnection._send_request\u001b[0;34m(self, method, url, body, headers, encode_chunked)\u001b[0m\n\u001b[1;32m   1381\u001b[0m     body \u001b[38;5;241m=\u001b[39m _encode(body, \u001b[38;5;124m'\u001b[39m\u001b[38;5;124mbody\u001b[39m\u001b[38;5;124m'\u001b[39m)\n\u001b[0;32m-> 1382\u001b[0m \u001b[38;5;28mself\u001b[39m\u001b[38;5;241m.\u001b[39mendheaders(body, encode_chunked\u001b[38;5;241m=\u001b[39mencode_chunked)\n",
      "File \u001b[0;32m/opt/anaconda3/lib/python3.12/http/client.py:1331\u001b[0m, in \u001b[0;36mHTTPConnection.endheaders\u001b[0;34m(self, message_body, encode_chunked)\u001b[0m\n\u001b[1;32m   1330\u001b[0m     \u001b[38;5;28;01mraise\u001b[39;00m CannotSendHeader()\n\u001b[0;32m-> 1331\u001b[0m \u001b[38;5;28mself\u001b[39m\u001b[38;5;241m.\u001b[39m_send_output(message_body, encode_chunked\u001b[38;5;241m=\u001b[39mencode_chunked)\n",
      "File \u001b[0;32m/opt/anaconda3/lib/python3.12/http/client.py:1091\u001b[0m, in \u001b[0;36mHTTPConnection._send_output\u001b[0;34m(self, message_body, encode_chunked)\u001b[0m\n\u001b[1;32m   1090\u001b[0m \u001b[38;5;28;01mdel\u001b[39;00m \u001b[38;5;28mself\u001b[39m\u001b[38;5;241m.\u001b[39m_buffer[:]\n\u001b[0;32m-> 1091\u001b[0m \u001b[38;5;28mself\u001b[39m\u001b[38;5;241m.\u001b[39msend(msg)\n\u001b[1;32m   1093\u001b[0m \u001b[38;5;28;01mif\u001b[39;00m message_body \u001b[38;5;129;01mis\u001b[39;00m \u001b[38;5;129;01mnot\u001b[39;00m \u001b[38;5;28;01mNone\u001b[39;00m:\n\u001b[1;32m   1094\u001b[0m \n\u001b[1;32m   1095\u001b[0m     \u001b[38;5;66;03m# create a consistent interface to message_body\u001b[39;00m\n",
      "File \u001b[0;32m/opt/anaconda3/lib/python3.12/http/client.py:1035\u001b[0m, in \u001b[0;36mHTTPConnection.send\u001b[0;34m(self, data)\u001b[0m\n\u001b[1;32m   1034\u001b[0m \u001b[38;5;28;01mif\u001b[39;00m \u001b[38;5;28mself\u001b[39m\u001b[38;5;241m.\u001b[39mauto_open:\n\u001b[0;32m-> 1035\u001b[0m     \u001b[38;5;28mself\u001b[39m\u001b[38;5;241m.\u001b[39mconnect()\n\u001b[1;32m   1036\u001b[0m \u001b[38;5;28;01melse\u001b[39;00m:\n",
      "File \u001b[0;32m/opt/anaconda3/lib/python3.12/http/client.py:1470\u001b[0m, in \u001b[0;36mHTTPSConnection.connect\u001b[0;34m(self)\u001b[0m\n\u001b[1;32m   1468\u001b[0m \u001b[38;5;124m\"\u001b[39m\u001b[38;5;124mConnect to a host on a given (SSL) port.\u001b[39m\u001b[38;5;124m\"\u001b[39m\n\u001b[0;32m-> 1470\u001b[0m \u001b[38;5;28msuper\u001b[39m()\u001b[38;5;241m.\u001b[39mconnect()\n\u001b[1;32m   1472\u001b[0m \u001b[38;5;28;01mif\u001b[39;00m \u001b[38;5;28mself\u001b[39m\u001b[38;5;241m.\u001b[39m_tunnel_host:\n",
      "File \u001b[0;32m/opt/anaconda3/lib/python3.12/http/client.py:1001\u001b[0m, in \u001b[0;36mHTTPConnection.connect\u001b[0;34m(self)\u001b[0m\n\u001b[1;32m   1000\u001b[0m sys\u001b[38;5;241m.\u001b[39maudit(\u001b[38;5;124m\"\u001b[39m\u001b[38;5;124mhttp.client.connect\u001b[39m\u001b[38;5;124m\"\u001b[39m, \u001b[38;5;28mself\u001b[39m, \u001b[38;5;28mself\u001b[39m\u001b[38;5;241m.\u001b[39mhost, \u001b[38;5;28mself\u001b[39m\u001b[38;5;241m.\u001b[39mport)\n\u001b[0;32m-> 1001\u001b[0m \u001b[38;5;28mself\u001b[39m\u001b[38;5;241m.\u001b[39msock \u001b[38;5;241m=\u001b[39m \u001b[38;5;28mself\u001b[39m\u001b[38;5;241m.\u001b[39m_create_connection(\n\u001b[1;32m   1002\u001b[0m     (\u001b[38;5;28mself\u001b[39m\u001b[38;5;241m.\u001b[39mhost,\u001b[38;5;28mself\u001b[39m\u001b[38;5;241m.\u001b[39mport), \u001b[38;5;28mself\u001b[39m\u001b[38;5;241m.\u001b[39mtimeout, \u001b[38;5;28mself\u001b[39m\u001b[38;5;241m.\u001b[39msource_address)\n\u001b[1;32m   1003\u001b[0m \u001b[38;5;66;03m# Might fail in OSs that don't implement TCP_NODELAY\u001b[39;00m\n",
      "File \u001b[0;32m/opt/anaconda3/lib/python3.12/socket.py:841\u001b[0m, in \u001b[0;36mcreate_connection\u001b[0;34m(address, timeout, source_address, all_errors)\u001b[0m\n\u001b[1;32m    840\u001b[0m exceptions \u001b[38;5;241m=\u001b[39m []\n\u001b[0;32m--> 841\u001b[0m \u001b[38;5;28;01mfor\u001b[39;00m res \u001b[38;5;129;01min\u001b[39;00m getaddrinfo(host, port, \u001b[38;5;241m0\u001b[39m, SOCK_STREAM):\n\u001b[1;32m    842\u001b[0m     af, socktype, proto, canonname, sa \u001b[38;5;241m=\u001b[39m res\n",
      "File \u001b[0;32m/opt/anaconda3/lib/python3.12/socket.py:976\u001b[0m, in \u001b[0;36mgetaddrinfo\u001b[0;34m(host, port, family, type, proto, flags)\u001b[0m\n\u001b[1;32m    975\u001b[0m addrlist \u001b[38;5;241m=\u001b[39m []\n\u001b[0;32m--> 976\u001b[0m \u001b[38;5;28;01mfor\u001b[39;00m res \u001b[38;5;129;01min\u001b[39;00m _socket\u001b[38;5;241m.\u001b[39mgetaddrinfo(host, port, family, \u001b[38;5;28mtype\u001b[39m, proto, flags):\n\u001b[1;32m    977\u001b[0m     af, socktype, proto, canonname, sa \u001b[38;5;241m=\u001b[39m res\n",
      "\u001b[0;31mgaierror\u001b[0m: [Errno 8] nodename nor servname provided, or not known",
      "\nDuring handling of the above exception, another exception occurred:\n",
      "\u001b[0;31mURLError\u001b[0m                                  Traceback (most recent call last)",
      "Cell \u001b[0;32mIn[72], line 1\u001b[0m\n\u001b[0;32m----> 1\u001b[0m response\u001b[38;5;241m=\u001b[39murllib2\u001b[38;5;241m.\u001b[39murlopen(\u001b[38;5;124m'\u001b[39m\u001b[38;5;124mhttps://en.wikipedia.org/wiki/India_national_cricket_team\u001b[39m\u001b[38;5;124m'\u001b[39m)\n\u001b[1;32m      2\u001b[0m html_doc\u001b[38;5;241m=\u001b[39mresponse\u001b[38;5;241m.\u001b[39mread()\n",
      "File \u001b[0;32m/opt/anaconda3/lib/python3.12/urllib/request.py:215\u001b[0m, in \u001b[0;36murlopen\u001b[0;34m(url, data, timeout, cafile, capath, cadefault, context)\u001b[0m\n\u001b[1;32m    213\u001b[0m \u001b[38;5;28;01melse\u001b[39;00m:\n\u001b[1;32m    214\u001b[0m     opener \u001b[38;5;241m=\u001b[39m _opener\n\u001b[0;32m--> 215\u001b[0m \u001b[38;5;28;01mreturn\u001b[39;00m opener\u001b[38;5;241m.\u001b[39mopen(url, data, timeout)\n",
      "File \u001b[0;32m/opt/anaconda3/lib/python3.12/urllib/request.py:515\u001b[0m, in \u001b[0;36mOpenerDirector.open\u001b[0;34m(self, fullurl, data, timeout)\u001b[0m\n\u001b[1;32m    512\u001b[0m     req \u001b[38;5;241m=\u001b[39m meth(req)\n\u001b[1;32m    514\u001b[0m sys\u001b[38;5;241m.\u001b[39maudit(\u001b[38;5;124m'\u001b[39m\u001b[38;5;124murllib.Request\u001b[39m\u001b[38;5;124m'\u001b[39m, req\u001b[38;5;241m.\u001b[39mfull_url, req\u001b[38;5;241m.\u001b[39mdata, req\u001b[38;5;241m.\u001b[39mheaders, req\u001b[38;5;241m.\u001b[39mget_method())\n\u001b[0;32m--> 515\u001b[0m response \u001b[38;5;241m=\u001b[39m \u001b[38;5;28mself\u001b[39m\u001b[38;5;241m.\u001b[39m_open(req, data)\n\u001b[1;32m    517\u001b[0m \u001b[38;5;66;03m# post-process response\u001b[39;00m\n\u001b[1;32m    518\u001b[0m meth_name \u001b[38;5;241m=\u001b[39m protocol\u001b[38;5;241m+\u001b[39m\u001b[38;5;124m\"\u001b[39m\u001b[38;5;124m_response\u001b[39m\u001b[38;5;124m\"\u001b[39m\n",
      "File \u001b[0;32m/opt/anaconda3/lib/python3.12/urllib/request.py:532\u001b[0m, in \u001b[0;36mOpenerDirector._open\u001b[0;34m(self, req, data)\u001b[0m\n\u001b[1;32m    529\u001b[0m     \u001b[38;5;28;01mreturn\u001b[39;00m result\n\u001b[1;32m    531\u001b[0m protocol \u001b[38;5;241m=\u001b[39m req\u001b[38;5;241m.\u001b[39mtype\n\u001b[0;32m--> 532\u001b[0m result \u001b[38;5;241m=\u001b[39m \u001b[38;5;28mself\u001b[39m\u001b[38;5;241m.\u001b[39m_call_chain(\u001b[38;5;28mself\u001b[39m\u001b[38;5;241m.\u001b[39mhandle_open, protocol, protocol \u001b[38;5;241m+\u001b[39m\n\u001b[1;32m    533\u001b[0m                           \u001b[38;5;124m'\u001b[39m\u001b[38;5;124m_open\u001b[39m\u001b[38;5;124m'\u001b[39m, req)\n\u001b[1;32m    534\u001b[0m \u001b[38;5;28;01mif\u001b[39;00m result:\n\u001b[1;32m    535\u001b[0m     \u001b[38;5;28;01mreturn\u001b[39;00m result\n",
      "File \u001b[0;32m/opt/anaconda3/lib/python3.12/urllib/request.py:492\u001b[0m, in \u001b[0;36mOpenerDirector._call_chain\u001b[0;34m(self, chain, kind, meth_name, *args)\u001b[0m\n\u001b[1;32m    490\u001b[0m \u001b[38;5;28;01mfor\u001b[39;00m handler \u001b[38;5;129;01min\u001b[39;00m handlers:\n\u001b[1;32m    491\u001b[0m     func \u001b[38;5;241m=\u001b[39m \u001b[38;5;28mgetattr\u001b[39m(handler, meth_name)\n\u001b[0;32m--> 492\u001b[0m     result \u001b[38;5;241m=\u001b[39m func(\u001b[38;5;241m*\u001b[39margs)\n\u001b[1;32m    493\u001b[0m     \u001b[38;5;28;01mif\u001b[39;00m result \u001b[38;5;129;01mis\u001b[39;00m \u001b[38;5;129;01mnot\u001b[39;00m \u001b[38;5;28;01mNone\u001b[39;00m:\n\u001b[1;32m    494\u001b[0m         \u001b[38;5;28;01mreturn\u001b[39;00m result\n",
      "File \u001b[0;32m/opt/anaconda3/lib/python3.12/urllib/request.py:1392\u001b[0m, in \u001b[0;36mHTTPSHandler.https_open\u001b[0;34m(self, req)\u001b[0m\n\u001b[1;32m   1391\u001b[0m \u001b[38;5;28;01mdef\u001b[39;00m \u001b[38;5;21mhttps_open\u001b[39m(\u001b[38;5;28mself\u001b[39m, req):\n\u001b[0;32m-> 1392\u001b[0m     \u001b[38;5;28;01mreturn\u001b[39;00m \u001b[38;5;28mself\u001b[39m\u001b[38;5;241m.\u001b[39mdo_open(http\u001b[38;5;241m.\u001b[39mclient\u001b[38;5;241m.\u001b[39mHTTPSConnection, req,\n\u001b[1;32m   1393\u001b[0m                         context\u001b[38;5;241m=\u001b[39m\u001b[38;5;28mself\u001b[39m\u001b[38;5;241m.\u001b[39m_context)\n",
      "File \u001b[0;32m/opt/anaconda3/lib/python3.12/urllib/request.py:1347\u001b[0m, in \u001b[0;36mAbstractHTTPHandler.do_open\u001b[0;34m(self, http_class, req, **http_conn_args)\u001b[0m\n\u001b[1;32m   1344\u001b[0m         h\u001b[38;5;241m.\u001b[39mrequest(req\u001b[38;5;241m.\u001b[39mget_method(), req\u001b[38;5;241m.\u001b[39mselector, req\u001b[38;5;241m.\u001b[39mdata, headers,\n\u001b[1;32m   1345\u001b[0m                   encode_chunked\u001b[38;5;241m=\u001b[39mreq\u001b[38;5;241m.\u001b[39mhas_header(\u001b[38;5;124m'\u001b[39m\u001b[38;5;124mTransfer-encoding\u001b[39m\u001b[38;5;124m'\u001b[39m))\n\u001b[1;32m   1346\u001b[0m     \u001b[38;5;28;01mexcept\u001b[39;00m \u001b[38;5;167;01mOSError\u001b[39;00m \u001b[38;5;28;01mas\u001b[39;00m err: \u001b[38;5;66;03m# timeout error\u001b[39;00m\n\u001b[0;32m-> 1347\u001b[0m         \u001b[38;5;28;01mraise\u001b[39;00m URLError(err)\n\u001b[1;32m   1348\u001b[0m     r \u001b[38;5;241m=\u001b[39m h\u001b[38;5;241m.\u001b[39mgetresponse()\n\u001b[1;32m   1349\u001b[0m \u001b[38;5;28;01mexcept\u001b[39;00m:\n",
      "\u001b[0;31mURLError\u001b[0m: <urlopen error [Errno 8] nodename nor servname provided, or not known>"
     ]
    }
   ],
   "source": [
    "response=urllib2.urlopen('https://en.wikipedia.org/wiki/India_national_cricket_team')\n",
    "html_doc=response.read()"
   ]
  },
  {
   "cell_type": "code",
   "execution_count": 74,
   "id": "b3f7e1cb-c229-4ca8-9201-24da3f0fa2ca",
   "metadata": {},
   "outputs": [
    {
     "ename": "FeatureNotFound",
     "evalue": "Couldn't find a tree builder with the features you requested: html.Parser. Do you need to install a parser library?",
     "output_type": "error",
     "traceback": [
      "\u001b[0;31m---------------------------------------------------------------------------\u001b[0m",
      "\u001b[0;31mFeatureNotFound\u001b[0m                           Traceback (most recent call last)",
      "Cell \u001b[0;32mIn[74], line 1\u001b[0m\n\u001b[0;32m----> 1\u001b[0m soup\u001b[38;5;241m=\u001b[39mBeautifulSoup(html_doc,\u001b[38;5;124m'\u001b[39m\u001b[38;5;124mhtml.Parser\u001b[39m\u001b[38;5;124m'\u001b[39m)\n\u001b[1;32m      2\u001b[0m strhtm\u001b[38;5;241m=\u001b[39msoup\u001b[38;5;241m.\u001b[39mprettify()\n\u001b[1;32m      3\u001b[0m \u001b[38;5;28mprint\u001b[39m(strhtm[:\u001b[38;5;241m5000\u001b[39m])\n",
      "File \u001b[0;32m/opt/anaconda3/lib/python3.12/site-packages/bs4/__init__.py:250\u001b[0m, in \u001b[0;36mBeautifulSoup.__init__\u001b[0;34m(self, markup, features, builder, parse_only, from_encoding, exclude_encodings, element_classes, **kwargs)\u001b[0m\n\u001b[1;32m    248\u001b[0m     builder_class \u001b[38;5;241m=\u001b[39m builder_registry\u001b[38;5;241m.\u001b[39mlookup(\u001b[38;5;241m*\u001b[39mfeatures)\n\u001b[1;32m    249\u001b[0m     \u001b[38;5;28;01mif\u001b[39;00m builder_class \u001b[38;5;129;01mis\u001b[39;00m \u001b[38;5;28;01mNone\u001b[39;00m:\n\u001b[0;32m--> 250\u001b[0m         \u001b[38;5;28;01mraise\u001b[39;00m FeatureNotFound(\n\u001b[1;32m    251\u001b[0m             \u001b[38;5;124m\"\u001b[39m\u001b[38;5;124mCouldn\u001b[39m\u001b[38;5;124m'\u001b[39m\u001b[38;5;124mt find a tree builder with the features you \u001b[39m\u001b[38;5;124m\"\u001b[39m\n\u001b[1;32m    252\u001b[0m             \u001b[38;5;124m\"\u001b[39m\u001b[38;5;124mrequested: \u001b[39m\u001b[38;5;132;01m%s\u001b[39;00m\u001b[38;5;124m. Do you need to install a parser library?\u001b[39m\u001b[38;5;124m\"\u001b[39m\n\u001b[1;32m    253\u001b[0m             \u001b[38;5;241m%\u001b[39m \u001b[38;5;124m\"\u001b[39m\u001b[38;5;124m,\u001b[39m\u001b[38;5;124m\"\u001b[39m\u001b[38;5;241m.\u001b[39mjoin(features))\n\u001b[1;32m    255\u001b[0m \u001b[38;5;66;03m# At this point either we have a TreeBuilder instance in\u001b[39;00m\n\u001b[1;32m    256\u001b[0m \u001b[38;5;66;03m# builder, or we have a builder_class that we can instantiate\u001b[39;00m\n\u001b[1;32m    257\u001b[0m \u001b[38;5;66;03m# with the remaining **kwargs.\u001b[39;00m\n\u001b[1;32m    258\u001b[0m \u001b[38;5;28;01mif\u001b[39;00m builder \u001b[38;5;129;01mis\u001b[39;00m \u001b[38;5;28;01mNone\u001b[39;00m:\n",
      "\u001b[0;31mFeatureNotFound\u001b[0m: Couldn't find a tree builder with the features you requested: html.Parser. Do you need to install a parser library?"
     ]
    }
   ],
   "source": [
    "soup=BeautifulSoup(html_doc,'html.Parser')\n",
    "strhtm=soup.prettify()\n",
    "print(strhtm[:5000])"
   ]
  },
  {
   "cell_type": "code",
   "execution_count": null,
   "id": "8db1ceb0-7f48-45aa-9613-356cf2b51ded",
   "metadata": {},
   "outputs": [],
   "source": []
  }
 ],
 "metadata": {
  "kernelspec": {
   "display_name": "Python [conda env:base] *",
   "language": "python",
   "name": "conda-base-py"
  },
  "language_info": {
   "codemirror_mode": {
    "name": "ipython",
    "version": 3
   },
   "file_extension": ".py",
   "mimetype": "text/x-python",
   "name": "python",
   "nbconvert_exporter": "python",
   "pygments_lexer": "ipython3",
   "version": "3.12.7"
  }
 },
 "nbformat": 4,
 "nbformat_minor": 5
}
