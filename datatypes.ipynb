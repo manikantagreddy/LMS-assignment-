{
 "cells": [
  {
   "cell_type": "code",
   "execution_count": 1,
   "id": "ea061192",
   "metadata": {},
   "outputs": [
    {
     "name": "stdout",
     "output_type": "stream",
     "text": [
      "Integer variable: 42 Type: <class 'int'>\n",
      "Float variable: 3.14 Type: <class 'float'>\n",
      "String variable: Hello, Jupyter! Type: <class 'str'>\n",
      "Boolean variable: True Type: <class 'bool'>\n"
     ]
    }
   ],
   "source": [
    "\n",
    "integer_var = 42       \n",
    "float_var = 3.14         \n",
    "string_var = \"Hello, Jupyter!\"  \n",
    "boolean_var = True       \n",
    "print(\"Integer variable:\", integer_var, \"Type:\", type(integer_var))\n",
    "print(\"Float variable:\", float_var, \"Type:\", type(float_var))\n",
    "print(\"String variable:\", string_var, \"Type:\", type(string_var))\n",
    "print(\"Boolean variable:\", boolean_var, \"Type:\", type(boolean_var))\n"
   ]
  },
  {
   "cell_type": "code",
   "execution_count": null,
   "id": "5f9e3d16",
   "metadata": {},
   "outputs": [],
   "source": []
  }
 ],
 "metadata": {
  "kernelspec": {
   "display_name": "Python 3 (ipykernel)",
   "language": "python",
   "name": "python3"
  },
  "language_info": {
   "codemirror_mode": {
    "name": "ipython",
    "version": 3
   },
   "file_extension": ".py",
   "mimetype": "text/x-python",
   "name": "python",
   "nbconvert_exporter": "python",
   "pygments_lexer": "ipython3",
   "version": "3.9.13"
  }
 },
 "nbformat": 4,
 "nbformat_minor": 5
}
