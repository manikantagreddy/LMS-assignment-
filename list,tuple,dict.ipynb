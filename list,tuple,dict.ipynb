{
 "cells": [
  {
   "cell_type": "code",
   "execution_count": 1,
   "id": "331515e3",
   "metadata": {},
   "outputs": [
    {
     "name": "stdout",
     "output_type": "stream",
     "text": [
      "List: [10, 20, 30, 40, 50]\n",
      "Element at index 2 in list: 30\n",
      "Slice of list (index 1 to 3): [20, 30, 40]\n",
      "\n",
      "Tuple: ('apple', 'banana', 'cherry', 'date', 'elderberry')\n",
      "Element at index 1 in tuple: banana\n",
      "Last element in tuple: elderberry\n",
      "\n",
      "Dictionary: {'name': 'Alice', 'age': 25, 'city': 'New York', 'job': 'Engineer', 'hobby': 'Reading'}\n",
      "Value for key 'name': Alice\n",
      "Value for key 'hobby': Reading\n"
     ]
    }
   ],
   "source": [
    "my_list = [10, 20, 30, 40, 50]\n",
    "print(\"List:\", my_list)\n",
    "print(\"Element at index 2 in list:\", my_list[2])  # Access by index\n",
    "print(\"Slice of list (index 1 to 3):\", my_list[1:4])  # Slice from index 1 to 3\n",
    "my_tuple = ('apple', 'banana', 'cherry', 'date', 'elderberry')\n",
    "print(\"\\nTuple:\", my_tuple)\n",
    "print(\"Element at index 1 in tuple:\", my_tuple[1])  # Access by index\n",
    "print(\"Last element in tuple:\", my_tuple[-1])  # Access last element using negative indexing\n",
    "my_dict = {'name': 'Alice', 'age': 25, 'city': 'New York', 'job': 'Engineer', 'hobby': 'Reading'}\n",
    "print(\"\\nDictionary:\", my_dict)\n",
    "print(\"Value for key 'name':\", my_dict['name'])  # Access by key\n",
    "print(\"Value for key 'hobby':\", my_dict['hobby'])  # Access another key\n"
   ]
  },
  {
   "cell_type": "code",
   "execution_count": null,
   "id": "eb4472e7",
   "metadata": {},
   "outputs": [],
   "source": []
  }
 ],
 "metadata": {
  "kernelspec": {
   "display_name": "Python 3 (ipykernel)",
   "language": "python",
   "name": "python3"
  },
  "language_info": {
   "codemirror_mode": {
    "name": "ipython",
    "version": 3
   },
   "file_extension": ".py",
   "mimetype": "text/x-python",
   "name": "python",
   "nbconvert_exporter": "python",
   "pygments_lexer": "ipython3",
   "version": "3.9.13"
  }
 },
 "nbformat": 4,
 "nbformat_minor": 5
}
